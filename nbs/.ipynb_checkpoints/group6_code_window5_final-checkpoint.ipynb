{
 "cells": [
  {
   "cell_type": "markdown",
   "metadata": {},
   "source": [
    "# Medication Compliance Monitoring System using Machine Learning and Distributed Computing\n",
    "By Katja Wittfoth, Donya Fozoonmayeh, Hai Vu Le, Chong Geng\n"
   ]
  },
  {
   "cell_type": "markdown",
   "metadata": {},
   "source": [
    "## 1.1 Reading the Data from MongoDB & Creating DataFrame "
   ]
  },
  {
   "cell_type": "code",
   "execution_count": 16,
   "metadata": {
    "ExecuteTime": {
     "end_time": "2019-01-18T22:26:33.960945Z",
     "start_time": "2019-01-18T22:26:33.947111Z"
    }
   },
   "outputs": [],
   "source": [
    "from pyspark import SparkContext      # for connecting MongoDB\n",
    "from pyspark.sql import SparkSession  # for connecting MongoDB\n",
    "import os                             # for connecting MongoDB\n",
    "\n",
    "from pyspark import SparkConf\n",
    "from pyspark.sql.types import *\n",
    "from pyspark.sql import Row\n",
    "from pyspark.sql.functions import *\n",
    "from pyspark.ml.feature import VectorAssembler\n",
    "\n",
    "from pyspark.ml.classification import RandomForestClassifier\n",
    "from pyspark.ml.classification import DecisionTreeClassifier\n",
    "from pyspark.ml.classification import LogisticRegression\n",
    "from pyspark.ml.classification import GBTClassifier\n",
    "from pyspark.ml.classification import OneVsRest\n",
    "from pyspark.ml.classification import LinearSVC\n",
    "\n",
    "from pyspark.ml.evaluation import BinaryClassificationEvaluator\n",
    "from pyspark.ml.evaluation import MulticlassClassificationEvaluator\n",
    "from pyspark.mllib.evaluation import MulticlassMetrics\n",
    "\n",
    "from pyspark.sql.functions import udf\n",
    "from pyspark.ml.feature import StringIndexer\n",
    "\n",
    "from pyspark.ml.tuning import CrossValidator\n",
    "from pyspark.ml.tuning import ParamGridBuilder"
   ]
  },
  {
   "cell_type": "code",
   "execution_count": 2,
   "metadata": {
    "ExecuteTime": {
     "end_time": "2019-01-18T22:23:46.533611Z",
     "start_time": "2019-01-18T22:23:46.528733Z"
    }
   },
   "outputs": [],
   "source": [
    "pyspark_submit_args = '--packages org.mongodb.spark:mongo-spark-connector_2.11:2.4.0 pyspark-shell'\n",
    "os.environ[\"PYSPARK_SUBMIT_ARGS\"] = pyspark_submit_args"
   ]
  },
  {
   "cell_type": "code",
   "execution_count": 3,
   "metadata": {
    "ExecuteTime": {
     "end_time": "2019-01-18T22:24:10.079830Z",
     "start_time": "2019-01-18T22:23:47.621811Z"
    }
   },
   "outputs": [],
   "source": [
    "ss = SparkSession \\\n",
    "    .builder \\\n",
    "    .appName(\"myApp\") \\\n",
    "    .config(\"spark.mongodb.input.uri\", \"mongodb://18.217.205.7/sensors.five\")\\\n",
    "    .getOrCreate()"
   ]
  },
  {
   "cell_type": "code",
   "execution_count": 4,
   "metadata": {
    "ExecuteTime": {
     "end_time": "2019-01-18T22:24:21.557216Z",
     "start_time": "2019-01-18T22:24:11.889352Z"
    }
   },
   "outputs": [],
   "source": [
    "window_5_df_raw = ss.read.format(\"com.mongodb.spark.sql.DefaultSource\").load()"
   ]
  },
  {
   "cell_type": "markdown",
   "metadata": {},
   "source": [
    "## 1.2 data cleaning"
   ]
  },
  {
   "cell_type": "markdown",
   "metadata": {},
   "source": [
    "## 1.2.1 rename the 'profile_activity' column as 'label', persist the df in memory."
   ]
  },
  {
   "cell_type": "code",
   "execution_count": 5,
   "metadata": {
    "ExecuteTime": {
     "end_time": "2019-01-18T22:24:24.195061Z",
     "start_time": "2019-01-18T22:24:23.266010Z"
    }
   },
   "outputs": [],
   "source": [
    "window_5_df_raw = window_5_df_raw.withColumnRenamed('profile_activity', 'label').cache()"
   ]
  },
  {
   "cell_type": "code",
   "execution_count": 6,
   "metadata": {
    "ExecuteTime": {
     "end_time": "2019-01-18T22:24:25.258426Z",
     "start_time": "2019-01-18T22:24:25.233550Z"
    }
   },
   "outputs": [
    {
     "name": "stdout",
     "output_type": "stream",
     "text": [
      "root\n",
      " |-- _id: struct (nullable = true)\n",
      " |    |-- oid: string (nullable = true)\n",
      " |-- bin1_25_percentile_x_val_accelerometer: double (nullable = true)\n",
      " |-- bin1_25_percentile_x_val_gyroscope: double (nullable = true)\n",
      " |-- bin1_25_percentile_y_val_accelerometer: double (nullable = true)\n",
      " |-- bin1_25_percentile_y_val_gyroscope: double (nullable = true)\n",
      " |-- bin1_25_percentile_z_val_accelerometer: double (nullable = true)\n",
      " |-- bin1_25_percentile_z_val_gyroscope: double (nullable = true)\n",
      " |-- bin1_5_percentile_x_val_accelerometer: double (nullable = true)\n",
      " |-- bin1_5_percentile_x_val_gyroscope: double (nullable = true)\n",
      " |-- bin1_5_percentile_y_val_accelerometer: double (nullable = true)\n",
      " |-- bin1_5_percentile_y_val_gyroscope: double (nullable = true)\n",
      " |-- bin1_5_percentile_z_val_accelerometer: double (nullable = true)\n",
      " |-- bin1_5_percentile_z_val_gyroscope: double (nullable = true)\n",
      " |-- bin1_75_percentile_x_val_accelerometer: double (nullable = true)\n",
      " |-- bin1_75_percentile_x_val_gyroscope: double (nullable = true)\n",
      " |-- bin1_75_percentile_y_val_accelerometer: double (nullable = true)\n",
      " |-- bin1_75_percentile_y_val_gyroscope: double (nullable = true)\n",
      " |-- bin1_75_percentile_z_val_accelerometer: double (nullable = true)\n",
      " |-- bin1_75_percentile_z_val_gyroscope: double (nullable = true)\n",
      " |-- bin1_95_percentile_x_val_accelerometer: double (nullable = true)\n",
      " |-- bin1_95_percentile_x_val_gyroscope: double (nullable = true)\n",
      " |-- bin1_95_percentile_y_val_accelerometer: double (nullable = true)\n",
      " |-- bin1_95_percentile_y_val_gyroscope: double (nullable = true)\n",
      " |-- bin1_95_percentile_z_val_accelerometer: double (nullable = true)\n",
      " |-- bin1_95_percentile_z_val_gyroscope: double (nullable = true)\n",
      " |-- bin1_avg_x_val_accelerometer: double (nullable = true)\n",
      " |-- bin1_avg_x_val_gyroscope: double (nullable = true)\n",
      " |-- bin1_avg_y_val_accelerometer: double (nullable = true)\n",
      " |-- bin1_avg_y_val_gyroscope: double (nullable = true)\n",
      " |-- bin1_avg_z_val_accelerometer: double (nullable = true)\n",
      " |-- bin1_avg_z_val_gyroscope: double (nullable = true)\n",
      " |-- bin1_max_x_val_accelerometer: double (nullable = true)\n",
      " |-- bin1_max_x_val_gyroscope: double (nullable = true)\n",
      " |-- bin1_max_y_val_accelerometer: double (nullable = true)\n",
      " |-- bin1_max_y_val_gyroscope: double (nullable = true)\n",
      " |-- bin1_max_z_val_accelerometer: double (nullable = true)\n",
      " |-- bin1_max_z_val_gyroscope: double (nullable = true)\n",
      " |-- bin1_med_x_val_accelerometer: double (nullable = true)\n",
      " |-- bin1_med_x_val_gyroscope: double (nullable = true)\n",
      " |-- bin1_med_y_val_accelerometer: double (nullable = true)\n",
      " |-- bin1_med_y_val_gyroscope: double (nullable = true)\n",
      " |-- bin1_med_z_val_accelerometer: double (nullable = true)\n",
      " |-- bin1_med_z_val_gyroscope: double (nullable = true)\n",
      " |-- bin1_min_x_val_accelerometer: double (nullable = true)\n",
      " |-- bin1_min_x_val_gyroscope: double (nullable = true)\n",
      " |-- bin1_min_y_val_accelerometer: double (nullable = true)\n",
      " |-- bin1_min_y_val_gyroscope: double (nullable = true)\n",
      " |-- bin1_min_z_val_accelerometer: double (nullable = true)\n",
      " |-- bin1_min_z_val_gyroscope: double (nullable = true)\n",
      " |-- bin1_std_x_val_accelerometer: double (nullable = true)\n",
      " |-- bin1_std_x_val_gyroscope: double (nullable = true)\n",
      " |-- bin1_std_y_val_accelerometer: double (nullable = true)\n",
      " |-- bin1_std_y_val_gyroscope: double (nullable = true)\n",
      " |-- bin1_std_z_val_accelerometer: double (nullable = true)\n",
      " |-- bin1_std_z_val_gyroscope: double (nullable = true)\n",
      " |-- bin2_25_percentile_x_val_accelerometer: double (nullable = true)\n",
      " |-- bin2_25_percentile_x_val_gyroscope: double (nullable = true)\n",
      " |-- bin2_25_percentile_y_val_accelerometer: double (nullable = true)\n",
      " |-- bin2_25_percentile_y_val_gyroscope: double (nullable = true)\n",
      " |-- bin2_25_percentile_z_val_accelerometer: double (nullable = true)\n",
      " |-- bin2_25_percentile_z_val_gyroscope: double (nullable = true)\n",
      " |-- bin2_5_percentile_x_val_accelerometer: double (nullable = true)\n",
      " |-- bin2_5_percentile_x_val_gyroscope: double (nullable = true)\n",
      " |-- bin2_5_percentile_y_val_accelerometer: double (nullable = true)\n",
      " |-- bin2_5_percentile_y_val_gyroscope: double (nullable = true)\n",
      " |-- bin2_5_percentile_z_val_accelerometer: double (nullable = true)\n",
      " |-- bin2_5_percentile_z_val_gyroscope: double (nullable = true)\n",
      " |-- bin2_75_percentile_x_val_accelerometer: double (nullable = true)\n",
      " |-- bin2_75_percentile_x_val_gyroscope: double (nullable = true)\n",
      " |-- bin2_75_percentile_y_val_accelerometer: double (nullable = true)\n",
      " |-- bin2_75_percentile_y_val_gyroscope: double (nullable = true)\n",
      " |-- bin2_75_percentile_z_val_accelerometer: double (nullable = true)\n",
      " |-- bin2_75_percentile_z_val_gyroscope: double (nullable = true)\n",
      " |-- bin2_95_percentile_x_val_accelerometer: double (nullable = true)\n",
      " |-- bin2_95_percentile_x_val_gyroscope: double (nullable = true)\n",
      " |-- bin2_95_percentile_y_val_accelerometer: double (nullable = true)\n",
      " |-- bin2_95_percentile_y_val_gyroscope: double (nullable = true)\n",
      " |-- bin2_95_percentile_z_val_accelerometer: double (nullable = true)\n",
      " |-- bin2_95_percentile_z_val_gyroscope: double (nullable = true)\n",
      " |-- bin2_avg_x_val_accelerometer: double (nullable = true)\n",
      " |-- bin2_avg_x_val_gyroscope: double (nullable = true)\n",
      " |-- bin2_avg_y_val_accelerometer: double (nullable = true)\n",
      " |-- bin2_avg_y_val_gyroscope: double (nullable = true)\n",
      " |-- bin2_avg_z_val_accelerometer: double (nullable = true)\n",
      " |-- bin2_avg_z_val_gyroscope: double (nullable = true)\n",
      " |-- bin2_max_x_val_accelerometer: double (nullable = true)\n",
      " |-- bin2_max_x_val_gyroscope: double (nullable = true)\n",
      " |-- bin2_max_y_val_accelerometer: double (nullable = true)\n",
      " |-- bin2_max_y_val_gyroscope: double (nullable = true)\n",
      " |-- bin2_max_z_val_accelerometer: double (nullable = true)\n",
      " |-- bin2_max_z_val_gyroscope: double (nullable = true)\n",
      " |-- bin2_med_x_val_accelerometer: double (nullable = true)\n",
      " |-- bin2_med_x_val_gyroscope: double (nullable = true)\n",
      " |-- bin2_med_y_val_accelerometer: double (nullable = true)\n",
      " |-- bin2_med_y_val_gyroscope: double (nullable = true)\n",
      " |-- bin2_med_z_val_accelerometer: double (nullable = true)\n",
      " |-- bin2_med_z_val_gyroscope: double (nullable = true)\n",
      " |-- bin2_min_x_val_accelerometer: double (nullable = true)\n",
      " |-- bin2_min_x_val_gyroscope: double (nullable = true)\n",
      " |-- bin2_min_y_val_accelerometer: double (nullable = true)\n",
      " |-- bin2_min_y_val_gyroscope: double (nullable = true)\n",
      " |-- bin2_min_z_val_accelerometer: double (nullable = true)\n",
      " |-- bin2_min_z_val_gyroscope: double (nullable = true)\n",
      " |-- bin2_std_x_val_accelerometer: double (nullable = true)\n",
      " |-- bin2_std_x_val_gyroscope: double (nullable = true)\n",
      " |-- bin2_std_y_val_accelerometer: double (nullable = true)\n",
      " |-- bin2_std_y_val_gyroscope: double (nullable = true)\n",
      " |-- bin2_std_z_val_accelerometer: double (nullable = true)\n",
      " |-- bin2_std_z_val_gyroscope: double (nullable = true)\n",
      " |-- bin3_25_percentile_x_val_accelerometer: double (nullable = true)\n",
      " |-- bin3_25_percentile_x_val_gyroscope: double (nullable = true)\n",
      " |-- bin3_25_percentile_y_val_accelerometer: double (nullable = true)\n",
      " |-- bin3_25_percentile_y_val_gyroscope: double (nullable = true)\n",
      " |-- bin3_25_percentile_z_val_accelerometer: double (nullable = true)\n",
      " |-- bin3_25_percentile_z_val_gyroscope: double (nullable = true)\n",
      " |-- bin3_5_percentile_x_val_accelerometer: double (nullable = true)\n",
      " |-- bin3_5_percentile_x_val_gyroscope: double (nullable = true)\n",
      " |-- bin3_5_percentile_y_val_accelerometer: double (nullable = true)\n",
      " |-- bin3_5_percentile_y_val_gyroscope: double (nullable = true)\n",
      " |-- bin3_5_percentile_z_val_accelerometer: double (nullable = true)\n",
      " |-- bin3_5_percentile_z_val_gyroscope: double (nullable = true)\n",
      " |-- bin3_75_percentile_x_val_accelerometer: double (nullable = true)\n",
      " |-- bin3_75_percentile_x_val_gyroscope: double (nullable = true)\n",
      " |-- bin3_75_percentile_y_val_accelerometer: double (nullable = true)\n",
      " |-- bin3_75_percentile_y_val_gyroscope: double (nullable = true)\n",
      " |-- bin3_75_percentile_z_val_accelerometer: double (nullable = true)\n",
      " |-- bin3_75_percentile_z_val_gyroscope: double (nullable = true)\n",
      " |-- bin3_95_percentile_x_val_accelerometer: double (nullable = true)\n",
      " |-- bin3_95_percentile_x_val_gyroscope: double (nullable = true)\n",
      " |-- bin3_95_percentile_y_val_accelerometer: double (nullable = true)\n",
      " |-- bin3_95_percentile_y_val_gyroscope: double (nullable = true)\n",
      " |-- bin3_95_percentile_z_val_accelerometer: double (nullable = true)\n",
      " |-- bin3_95_percentile_z_val_gyroscope: double (nullable = true)\n",
      " |-- bin3_avg_x_val_accelerometer: double (nullable = true)\n",
      " |-- bin3_avg_x_val_gyroscope: double (nullable = true)\n",
      " |-- bin3_avg_y_val_accelerometer: double (nullable = true)\n",
      " |-- bin3_avg_y_val_gyroscope: double (nullable = true)\n",
      " |-- bin3_avg_z_val_accelerometer: double (nullable = true)\n",
      " |-- bin3_avg_z_val_gyroscope: double (nullable = true)\n",
      " |-- bin3_max_x_val_accelerometer: double (nullable = true)\n",
      " |-- bin3_max_x_val_gyroscope: double (nullable = true)\n",
      " |-- bin3_max_y_val_accelerometer: double (nullable = true)\n",
      " |-- bin3_max_y_val_gyroscope: double (nullable = true)\n",
      " |-- bin3_max_z_val_accelerometer: double (nullable = true)\n",
      " |-- bin3_max_z_val_gyroscope: double (nullable = true)\n",
      " |-- bin3_med_x_val_accelerometer: double (nullable = true)\n",
      " |-- bin3_med_x_val_gyroscope: double (nullable = true)\n",
      " |-- bin3_med_y_val_accelerometer: double (nullable = true)\n",
      " |-- bin3_med_y_val_gyroscope: double (nullable = true)\n",
      " |-- bin3_med_z_val_accelerometer: double (nullable = true)\n",
      " |-- bin3_med_z_val_gyroscope: double (nullable = true)\n",
      " |-- bin3_min_x_val_accelerometer: double (nullable = true)\n",
      " |-- bin3_min_x_val_gyroscope: double (nullable = true)\n",
      " |-- bin3_min_y_val_accelerometer: double (nullable = true)\n",
      " |-- bin3_min_y_val_gyroscope: double (nullable = true)\n",
      " |-- bin3_min_z_val_accelerometer: double (nullable = true)\n",
      " |-- bin3_min_z_val_gyroscope: double (nullable = true)\n",
      " |-- bin3_std_x_val_accelerometer: double (nullable = true)\n",
      " |-- bin3_std_x_val_gyroscope: double (nullable = true)\n",
      " |-- bin3_std_y_val_accelerometer: double (nullable = true)\n",
      " |-- bin3_std_y_val_gyroscope: double (nullable = true)\n",
      " |-- bin3_std_z_val_accelerometer: double (nullable = true)\n",
      " |-- bin3_std_z_val_gyroscope: double (nullable = true)\n",
      " |-- bin4_25_percentile_x_val_accelerometer: double (nullable = true)\n",
      " |-- bin4_25_percentile_x_val_gyroscope: double (nullable = true)\n",
      " |-- bin4_25_percentile_y_val_accelerometer: double (nullable = true)\n",
      " |-- bin4_25_percentile_y_val_gyroscope: double (nullable = true)\n",
      " |-- bin4_25_percentile_z_val_accelerometer: double (nullable = true)\n",
      " |-- bin4_25_percentile_z_val_gyroscope: double (nullable = true)\n",
      " |-- bin4_5_percentile_x_val_accelerometer: double (nullable = true)\n",
      " |-- bin4_5_percentile_x_val_gyroscope: double (nullable = true)\n",
      " |-- bin4_5_percentile_y_val_accelerometer: double (nullable = true)\n",
      " |-- bin4_5_percentile_y_val_gyroscope: double (nullable = true)\n",
      " |-- bin4_5_percentile_z_val_accelerometer: double (nullable = true)\n",
      " |-- bin4_5_percentile_z_val_gyroscope: double (nullable = true)\n",
      " |-- bin4_75_percentile_x_val_accelerometer: double (nullable = true)\n",
      " |-- bin4_75_percentile_x_val_gyroscope: double (nullable = true)\n",
      " |-- bin4_75_percentile_y_val_accelerometer: double (nullable = true)\n",
      " |-- bin4_75_percentile_y_val_gyroscope: double (nullable = true)\n",
      " |-- bin4_75_percentile_z_val_accelerometer: double (nullable = true)\n",
      " |-- bin4_75_percentile_z_val_gyroscope: double (nullable = true)\n",
      " |-- bin4_95_percentile_x_val_accelerometer: double (nullable = true)\n",
      " |-- bin4_95_percentile_x_val_gyroscope: double (nullable = true)\n",
      " |-- bin4_95_percentile_y_val_accelerometer: double (nullable = true)\n",
      " |-- bin4_95_percentile_y_val_gyroscope: double (nullable = true)\n",
      " |-- bin4_95_percentile_z_val_accelerometer: double (nullable = true)\n",
      " |-- bin4_95_percentile_z_val_gyroscope: double (nullable = true)\n",
      " |-- bin4_avg_x_val_accelerometer: double (nullable = true)\n",
      " |-- bin4_avg_x_val_gyroscope: double (nullable = true)\n",
      " |-- bin4_avg_y_val_accelerometer: double (nullable = true)\n",
      " |-- bin4_avg_y_val_gyroscope: double (nullable = true)\n",
      " |-- bin4_avg_z_val_accelerometer: double (nullable = true)\n",
      " |-- bin4_avg_z_val_gyroscope: double (nullable = true)\n",
      " |-- bin4_max_x_val_accelerometer: double (nullable = true)\n",
      " |-- bin4_max_x_val_gyroscope: double (nullable = true)\n",
      " |-- bin4_max_y_val_accelerometer: double (nullable = true)\n",
      " |-- bin4_max_y_val_gyroscope: double (nullable = true)\n",
      " |-- bin4_max_z_val_accelerometer: double (nullable = true)\n",
      " |-- bin4_max_z_val_gyroscope: double (nullable = true)\n",
      " |-- bin4_med_x_val_accelerometer: double (nullable = true)\n",
      " |-- bin4_med_x_val_gyroscope: double (nullable = true)\n",
      " |-- bin4_med_y_val_accelerometer: double (nullable = true)\n",
      " |-- bin4_med_y_val_gyroscope: double (nullable = true)\n",
      " |-- bin4_med_z_val_accelerometer: double (nullable = true)\n",
      " |-- bin4_med_z_val_gyroscope: double (nullable = true)\n",
      " |-- bin4_min_x_val_accelerometer: double (nullable = true)\n",
      " |-- bin4_min_x_val_gyroscope: double (nullable = true)\n",
      " |-- bin4_min_y_val_accelerometer: double (nullable = true)\n",
      " |-- bin4_min_y_val_gyroscope: double (nullable = true)\n",
      " |-- bin4_min_z_val_accelerometer: double (nullable = true)\n",
      " |-- bin4_min_z_val_gyroscope: double (nullable = true)\n",
      " |-- bin4_std_x_val_accelerometer: double (nullable = true)\n",
      " |-- bin4_std_x_val_gyroscope: double (nullable = true)\n",
      " |-- bin4_std_y_val_accelerometer: double (nullable = true)\n",
      " |-- bin4_std_y_val_gyroscope: double (nullable = true)\n",
      " |-- bin4_std_z_val_accelerometer: double (nullable = true)\n",
      " |-- bin4_std_z_val_gyroscope: double (nullable = true)\n",
      " |-- bin5_25_percentile_x_val_accelerometer: double (nullable = true)\n",
      " |-- bin5_25_percentile_x_val_gyroscope: double (nullable = true)\n",
      " |-- bin5_25_percentile_y_val_accelerometer: double (nullable = true)\n",
      " |-- bin5_25_percentile_y_val_gyroscope: double (nullable = true)\n",
      " |-- bin5_25_percentile_z_val_accelerometer: double (nullable = true)\n",
      " |-- bin5_25_percentile_z_val_gyroscope: double (nullable = true)\n",
      " |-- bin5_5_percentile_x_val_accelerometer: double (nullable = true)\n",
      " |-- bin5_5_percentile_x_val_gyroscope: double (nullable = true)\n",
      " |-- bin5_5_percentile_y_val_accelerometer: double (nullable = true)\n",
      " |-- bin5_5_percentile_y_val_gyroscope: double (nullable = true)\n",
      " |-- bin5_5_percentile_z_val_accelerometer: double (nullable = true)\n",
      " |-- bin5_5_percentile_z_val_gyroscope: double (nullable = true)\n",
      " |-- bin5_75_percentile_x_val_accelerometer: double (nullable = true)\n",
      " |-- bin5_75_percentile_x_val_gyroscope: double (nullable = true)\n",
      " |-- bin5_75_percentile_y_val_accelerometer: double (nullable = true)\n",
      " |-- bin5_75_percentile_y_val_gyroscope: double (nullable = true)\n",
      " |-- bin5_75_percentile_z_val_accelerometer: double (nullable = true)\n",
      " |-- bin5_75_percentile_z_val_gyroscope: double (nullable = true)\n",
      " |-- bin5_95_percentile_x_val_accelerometer: double (nullable = true)\n",
      " |-- bin5_95_percentile_x_val_gyroscope: double (nullable = true)\n",
      " |-- bin5_95_percentile_y_val_accelerometer: double (nullable = true)\n",
      " |-- bin5_95_percentile_y_val_gyroscope: double (nullable = true)\n",
      " |-- bin5_95_percentile_z_val_accelerometer: double (nullable = true)\n",
      " |-- bin5_95_percentile_z_val_gyroscope: double (nullable = true)\n",
      " |-- bin5_avg_x_val_accelerometer: double (nullable = true)\n",
      " |-- bin5_avg_x_val_gyroscope: double (nullable = true)\n",
      " |-- bin5_avg_y_val_accelerometer: double (nullable = true)\n",
      " |-- bin5_avg_y_val_gyroscope: double (nullable = true)\n",
      " |-- bin5_avg_z_val_accelerometer: double (nullable = true)\n",
      " |-- bin5_avg_z_val_gyroscope: double (nullable = true)\n",
      " |-- bin5_max_x_val_accelerometer: double (nullable = true)\n",
      " |-- bin5_max_x_val_gyroscope: double (nullable = true)\n",
      " |-- bin5_max_y_val_accelerometer: double (nullable = true)\n",
      " |-- bin5_max_y_val_gyroscope: double (nullable = true)\n",
      " |-- bin5_max_z_val_accelerometer: double (nullable = true)\n",
      " |-- bin5_max_z_val_gyroscope: double (nullable = true)\n",
      " |-- bin5_med_x_val_accelerometer: double (nullable = true)\n",
      " |-- bin5_med_x_val_gyroscope: double (nullable = true)\n",
      " |-- bin5_med_y_val_accelerometer: double (nullable = true)\n",
      " |-- bin5_med_y_val_gyroscope: double (nullable = true)\n",
      " |-- bin5_med_z_val_accelerometer: double (nullable = true)\n",
      " |-- bin5_med_z_val_gyroscope: double (nullable = true)\n",
      " |-- bin5_min_x_val_accelerometer: double (nullable = true)\n",
      " |-- bin5_min_x_val_gyroscope: double (nullable = true)\n",
      " |-- bin5_min_y_val_accelerometer: double (nullable = true)\n",
      " |-- bin5_min_y_val_gyroscope: double (nullable = true)\n",
      " |-- bin5_min_z_val_accelerometer: double (nullable = true)\n",
      " |-- bin5_min_z_val_gyroscope: double (nullable = true)\n",
      " |-- bin5_std_x_val_accelerometer: double (nullable = true)\n",
      " |-- bin5_std_x_val_gyroscope: double (nullable = true)\n",
      " |-- bin5_std_y_val_accelerometer: double (nullable = true)\n",
      " |-- bin5_std_y_val_gyroscope: double (nullable = true)\n",
      " |-- bin5_std_z_val_accelerometer: double (nullable = true)\n",
      " |-- bin5_std_z_val_gyroscope: double (nullable = true)\n",
      " |-- global_25_percentile_x_val_accelerometer: double (nullable = true)\n",
      " |-- global_25_percentile_x_val_gyroscope: double (nullable = true)\n",
      " |-- global_25_percentile_y_val_accelerometer: double (nullable = true)\n",
      " |-- global_25_percentile_y_val_gyroscope: double (nullable = true)\n",
      " |-- global_25_percentile_z_val_accelerometer: double (nullable = true)\n",
      " |-- global_25_percentile_z_val_gyroscope: double (nullable = true)\n",
      " |-- global_5_percentile_x_val_accelerometer: double (nullable = true)\n",
      " |-- global_5_percentile_x_val_gyroscope: double (nullable = true)\n",
      " |-- global_5_percentile_y_val_accelerometer: double (nullable = true)\n",
      " |-- global_5_percentile_y_val_gyroscope: double (nullable = true)\n",
      " |-- global_5_percentile_z_val_accelerometer: double (nullable = true)\n",
      " |-- global_5_percentile_z_val_gyroscope: double (nullable = true)\n",
      " |-- global_75_percentile_x_val_accelerometer: double (nullable = true)\n",
      " |-- global_75_percentile_x_val_gyroscope: double (nullable = true)\n",
      " |-- global_75_percentile_y_val_accelerometer: double (nullable = true)\n",
      " |-- global_75_percentile_y_val_gyroscope: double (nullable = true)\n",
      " |-- global_75_percentile_z_val_accelerometer: double (nullable = true)\n",
      " |-- global_75_percentile_z_val_gyroscope: double (nullable = true)\n",
      " |-- global_95_percentile_x_val_accelerometer: double (nullable = true)\n",
      " |-- global_95_percentile_x_val_gyroscope: double (nullable = true)\n",
      " |-- global_95_percentile_y_val_accelerometer: double (nullable = true)\n",
      " |-- global_95_percentile_y_val_gyroscope: double (nullable = true)\n",
      " |-- global_95_percentile_z_val_accelerometer: double (nullable = true)\n",
      " |-- global_95_percentile_z_val_gyroscope: double (nullable = true)\n",
      " |-- global_avg_x_val_accelerometer: double (nullable = true)\n",
      " |-- global_avg_x_val_gyroscope: double (nullable = true)\n",
      " |-- global_avg_y_val_accelerometer: double (nullable = true)\n",
      " |-- global_avg_y_val_gyroscope: double (nullable = true)\n",
      " |-- global_avg_z_val_accelerometer: double (nullable = true)\n",
      " |-- global_avg_z_val_gyroscope: double (nullable = true)\n",
      " |-- global_max_x_val_accelerometer: double (nullable = true)\n",
      " |-- global_max_x_val_gyroscope: double (nullable = true)\n",
      " |-- global_max_y_val_accelerometer: double (nullable = true)\n",
      " |-- global_max_y_val_gyroscope: double (nullable = true)\n",
      " |-- global_max_z_val_accelerometer: double (nullable = true)\n",
      " |-- global_max_z_val_gyroscope: double (nullable = true)\n",
      " |-- global_med_x_val_accelerometer: double (nullable = true)\n",
      " |-- global_med_x_val_gyroscope: double (nullable = true)\n",
      " |-- global_med_y_val_accelerometer: double (nullable = true)\n",
      " |-- global_med_y_val_gyroscope: double (nullable = true)\n",
      " |-- global_med_z_val_accelerometer: double (nullable = true)\n",
      " |-- global_med_z_val_gyroscope: double (nullable = true)\n",
      " |-- global_min_x_val_accelerometer: double (nullable = true)\n",
      " |-- global_min_x_val_gyroscope: double (nullable = true)\n",
      " |-- global_min_y_val_accelerometer: double (nullable = true)\n",
      " |-- global_min_y_val_gyroscope: double (nullable = true)\n",
      " |-- global_min_z_val_accelerometer: double (nullable = true)\n",
      " |-- global_min_z_val_gyroscope: double (nullable = true)\n",
      " |-- global_std_x_val_accelerometer: double (nullable = true)\n",
      " |-- global_std_x_val_gyroscope: double (nullable = true)\n",
      " |-- global_std_y_val_accelerometer: double (nullable = true)\n",
      " |-- global_std_y_val_gyroscope: double (nullable = true)\n",
      " |-- global_std_z_val_accelerometer: double (nullable = true)\n",
      " |-- global_std_z_val_gyroscope: double (nullable = true)\n",
      " |-- label: string (nullable = true)\n",
      "\n"
     ]
    }
   ],
   "source": [
    "window_5_df_raw.printSchema()"
   ]
  },
  {
   "cell_type": "markdown",
   "metadata": {},
   "source": [
    "### 1.2.2 Converting string labels to integer"
   ]
  },
  {
   "cell_type": "code",
   "execution_count": 7,
   "metadata": {
    "ExecuteTime": {
     "end_time": "2019-01-18T22:24:42.740897Z",
     "start_time": "2019-01-18T22:24:42.734726Z"
    }
   },
   "outputs": [],
   "source": [
    "def label_converter(label):\n",
    "    if label == 'non_dominant_pill_med':\n",
    "        return int(1)\n",
    "    elif label == 'dominant_pill_med':\n",
    "        return int(1)\n",
    "    elif label == 'dominant_liquid_med':\n",
    "        return int(1)\n",
    "    elif label == 'non_dominant_liquid_med':\n",
    "        return int(1)\n",
    "    else: \n",
    "        return 0\n",
    "\n",
    "label_udf = udf(label_converter, IntegerType())"
   ]
  },
  {
   "cell_type": "code",
   "execution_count": 8,
   "metadata": {
    "ExecuteTime": {
     "end_time": "2019-01-18T22:24:58.123742Z",
     "start_time": "2019-01-18T22:24:57.817989Z"
    }
   },
   "outputs": [],
   "source": [
    "window_5_df = window_5_df_raw.withColumn('numeric_label', label_udf(window_5_df_raw['label']))\\\n",
    "                             .drop('label')\\\n",
    "                             .drop('_id')\\\n",
    "                             .withColumnRenamed('numeric_label', 'label')\n"
   ]
  },
  {
   "cell_type": "markdown",
   "metadata": {},
   "source": [
    "### 1.2.3 Splitting the data into train and test"
   ]
  },
  {
   "cell_type": "code",
   "execution_count": 9,
   "metadata": {
    "ExecuteTime": {
     "end_time": "2019-01-18T22:25:01.783598Z",
     "start_time": "2019-01-18T22:25:00.798694Z"
    }
   },
   "outputs": [],
   "source": [
    "splits = window_5_df.randomSplit([0.8, 0.2], seed=30)\n",
    "\n",
    "window_5_train = splits[0].cache()\n",
    "window_5_test = splits[1].cache()"
   ]
  },
  {
   "cell_type": "code",
   "execution_count": 10,
   "metadata": {
    "ExecuteTime": {
     "end_time": "2019-01-18T22:25:05.144396Z",
     "start_time": "2019-01-18T22:25:02.525547Z"
    }
   },
   "outputs": [],
   "source": [
    "va_5_train = VectorAssembler(outputCol=\"features\", inputCols=window_5_train.columns[0:-1])\n",
    "training_set_5 = va_5_train.transform(window_5_train).select(\"features\", \"label\").cache()\n",
    "\n",
    "va_5_test = VectorAssembler(outputCol=\"features\", inputCols=window_5_test.columns[0:-1])\n",
    "testing_set_5 = va_5_test.transform(window_5_test).select(\"features\", \"label\").cache()"
   ]
  },
  {
   "cell_type": "markdown",
   "metadata": {},
   "source": [
    "## 1.3 Model 1: Random Forest Classifier"
   ]
  },
  {
   "cell_type": "markdown",
   "metadata": {},
   "source": [
    "### 1.3.1 model training and evaluation"
   ]
  },
  {
   "cell_type": "code",
   "execution_count": 11,
   "metadata": {
    "ExecuteTime": {
     "end_time": "2019-01-18T22:25:32.968524Z",
     "start_time": "2019-01-18T22:25:10.340753Z"
    }
   },
   "outputs": [],
   "source": [
    "from time import time\n",
    "start_rf_5 = time()\n",
    "rf_5 = RandomForestClassifier(maxDepth=30, seed=42)\n",
    "rf_model_5 = rf_5.fit(training_set_5)\n",
    "\n",
    "\n",
    "rf_5_predict = rf_model_5.transform(testing_set_5)\n",
    "\n",
    "evaluator_f1_5 = MulticlassClassificationEvaluator(labelCol=\"label\", predictionCol=\"prediction\", metricName=\"f1\")\n",
    "f1_window_5_rf = evaluator_f1_5.evaluate(rf_5_predict)\n",
    "\n",
    "evaluator_accuracy_5 = MulticlassClassificationEvaluator(labelCol=\"label\", predictionCol=\"prediction\", metricName=\"accuracy\")\n",
    "accuracy_window_5_rf = evaluator_accuracy_5.evaluate(rf_5_predict)\n",
    "\n",
    "evaluator_precision_5 = MulticlassClassificationEvaluator(labelCol=\"label\", predictionCol=\"prediction\", metricName=\"weightedPrecision\")\n",
    "precision_window_5_rf = evaluator_precision_5.evaluate(rf_5_predict)\n",
    "\n",
    "evaluator_recall_5 = MulticlassClassificationEvaluator(labelCol=\"label\", predictionCol=\"prediction\", metricName=\"weightedRecall\")\n",
    "recall_window_5_rf = evaluator_recall_5.evaluate(rf_5_predict)\n",
    "end_rf_5 = time()"
   ]
  },
  {
   "cell_type": "markdown",
   "metadata": {},
   "source": [
    "### 1.3.2 confusion matrix"
   ]
  },
  {
   "cell_type": "code",
   "execution_count": 13,
   "metadata": {
    "ExecuteTime": {
     "end_time": "2019-01-18T22:25:47.908154Z",
     "start_time": "2019-01-18T22:25:45.687636Z"
    }
   },
   "outputs": [
    {
     "name": "stdout",
     "output_type": "stream",
     "text": [
      "+-----+----------+-----+\n",
      "|label|prediction|count|\n",
      "+-----+----------+-----+\n",
      "|    1|       0.0|   14|\n",
      "|    0|       0.0|   81|\n",
      "|    1|       1.0|   52|\n",
      "|    0|       1.0|   17|\n",
      "+-----+----------+-----+\n",
      "\n"
     ]
    }
   ],
   "source": [
    "rf_5_predict.select('label','prediction').groupBy('label','prediction').count().show()"
   ]
  },
  {
   "cell_type": "markdown",
   "metadata": {},
   "source": [
    "### 1.3.3 classification metrics"
   ]
  },
  {
   "cell_type": "code",
   "execution_count": 14,
   "metadata": {
    "ExecuteTime": {
     "end_time": "2019-01-18T22:25:51.705189Z",
     "start_time": "2019-01-18T22:25:51.694596Z"
    }
   },
   "outputs": [
    {
     "name": "stdout",
     "output_type": "stream",
     "text": [
      "F1 score = 0.811607\n",
      "Accuracy = 0.810976\n",
      "Test Error = 0.189024\n",
      "Precision = 0.812787\n",
      "Recall = 0.810976\n",
      "TimeInSeconds = 22.6219\n"
     ]
    }
   ],
   "source": [
    "print(\"F1 score = %g\" % (f1_window_5_rf))\n",
    "print(\"Accuracy = %g\" % (accuracy_window_5_rf))\n",
    "print(\"Test Error = %g\" % (1.0 - accuracy_window_5_rf))\n",
    "print(\"Precision = %g\" % (precision_window_5_rf))\n",
    "print(\"Recall = %g\" % (recall_window_5_rf))\n",
    "print(\"TimeInSeconds = %g\" % (end_rf_5-start_rf_5))"
   ]
  },
  {
   "cell_type": "markdown",
   "metadata": {},
   "source": [
    "## Cross-validation and Hyperparameter tuning"
   ]
  },
  {
   "cell_type": "code",
   "execution_count": 19,
   "metadata": {
    "ExecuteTime": {
     "end_time": "2019-01-18T22:42:39.619658Z",
     "start_time": "2019-01-18T22:42:39.613983Z"
    }
   },
   "outputs": [],
   "source": [
    "# rf_cv = RandomForestClassifier()\n",
    "# evaluator_cv = MulticlassClassificationEvaluator(labelCol=\"label\", predictionCol=\"prediction\", \n",
    "#                                               metricName=\"accuracy\")\n",
    "\n",
    "# cv = CrossValidator().setEstimator(rf_cv).setEvaluator(evaluator_cv).setNumFolds(5)\n",
    "\n",
    "# paramGrid = ParamGridBuilder().addGrid(rf_cv.numTrees, [30, 50, 70])\\\n",
    "#                               .addGrid(rf_cv.maxDepth, [20,25,30])\\\n",
    "#                               .addGrid(rf_cv.featureSubsetStrategy, ['auto', 'all', 'onethird'])\\\n",
    "#                               .build()\n",
    "\n",
    "# cv.setEstimatorParamMaps(paramGrid)\n",
    "\n",
    "# cvmodel = cv.fit(training_set_5)\n",
    "\n",
    "# print(cvmodel.bestModel._java_obj.getNumTrees())\n",
    "# print(cvmodel.bestModel._java_obj.getFeatureSubsetStrategy())\n",
    "# print(cvmodel.bestModel._java_obj.getImpurity())\n",
    "# print(\"Accuracy : \" +  str(MulticlassClassificationEvaluator()\\\n",
    "#                            .evaluate(cvmodel.bestModel.transform(testing_set_5))))"
   ]
  },
  {
   "cell_type": "markdown",
   "metadata": {},
   "source": [
    "## Feature Importance & Feature Selection"
   ]
  },
  {
   "cell_type": "markdown",
   "metadata": {},
   "source": [
    "Some features have very low importance that the importance score is returned as 0.\n",
    "We use features with non-zero importance in other algorithms to see if using a more selective set of features helps increases their performance. "
   ]
  },
  {
   "cell_type": "code",
   "execution_count": 20,
   "metadata": {
    "ExecuteTime": {
     "end_time": "2019-01-18T22:42:41.950620Z",
     "start_time": "2019-01-18T22:42:41.781007Z"
    }
   },
   "outputs": [
    {
     "name": "stdout",
     "output_type": "stream",
     "text": [
      "global_max_z_val_accelerometer : 0.027321605358731408\n",
      "global_95_percentile_z_val_accelerometer : 0.024176559441324966\n",
      "global_avg_z_val_accelerometer : 0.020659353947089495\n",
      "global_min_y_val_accelerometer : 0.019484144215838693\n",
      "bin2_95_percentile_z_val_gyroscope : 0.016685499473687065\n",
      "bin2_std_y_val_accelerometer : 0.015407014249715679\n",
      "bin3_avg_z_val_accelerometer : 0.015002890224686309\n",
      "global_std_x_val_accelerometer : 0.013946045873114401\n",
      "bin2_75_percentile_z_val_gyroscope : 0.011690661552343754\n",
      "bin2_std_z_val_gyroscope : 0.011550934152936416\n",
      "global_std_y_val_accelerometer : 0.010509143403371703\n",
      "bin2_max_z_val_gyroscope : 0.010026933369531556\n",
      "bin3_25_percentile_z_val_accelerometer : 0.010008345770625052\n",
      "global_max_z_val_gyroscope : 0.009866967852499964\n",
      "global_95_percentile_y_val_gyroscope : 0.009718336886372319\n",
      "bin3_75_percentile_z_val_accelerometer : 0.009494672399274496\n",
      "global_5_percentile_y_val_accelerometer : 0.009356038221645852\n",
      "bin2_avg_y_val_gyroscope : 0.008996379888690292\n",
      "bin4_max_x_val_gyroscope : 0.008975257642444643\n",
      "bin3_med_x_val_accelerometer : 0.008938213075083142\n",
      "bin3_max_z_val_accelerometer : 0.008932309329904185\n",
      "global_25_percentile_x_val_gyroscope : 0.008622978096109884\n",
      "bin3_med_z_val_accelerometer : 0.008414249227696133\n",
      "bin5_75_percentile_y_val_gyroscope : 0.008232255431162676\n",
      "global_75_percentile_z_val_accelerometer : 0.00794359510793072\n",
      "global_min_z_val_accelerometer : 0.00787000463478616\n",
      "bin1_95_percentile_z_val_gyroscope : 0.007751871233716753\n",
      "bin2_25_percentile_z_val_gyroscope : 0.0076056862776680235\n",
      "global_5_percentile_x_val_gyroscope : 0.007503220228259395\n",
      "bin2_max_z_val_accelerometer : 0.007358508613810944\n",
      "bin2_min_y_val_gyroscope : 0.007113275913127095\n",
      "bin1_std_y_val_gyroscope : 0.006868923557433344\n",
      "bin3_25_percentile_x_val_accelerometer : 0.006695450840388096\n",
      "bin1_max_z_val_gyroscope : 0.006568671463640102\n",
      "bin5_25_percentile_x_val_accelerometer : 0.006490902901317902\n",
      "bin4_95_percentile_x_val_gyroscope : 0.006365740164176461\n",
      "global_min_x_val_gyroscope : 0.006317602432925016\n",
      "bin5_max_z_val_accelerometer : 0.0059362631151845925\n",
      "bin5_95_percentile_x_val_accelerometer : 0.0057938889702794415\n",
      "global_5_percentile_y_val_gyroscope : 0.005685036263032039\n",
      "bin3_avg_z_val_gyroscope : 0.005647390062797871\n",
      "global_95_percentile_x_val_gyroscope : 0.005623972304625008\n",
      "global_avg_x_val_accelerometer : 0.0055599364623351135\n",
      "bin2_min_z_val_gyroscope : 0.00553833050930695\n",
      "bin1_25_percentile_x_val_gyroscope : 0.005466340781890362\n",
      "bin3_5_percentile_y_val_accelerometer : 0.005412245571128214\n",
      "bin4_std_x_val_gyroscope : 0.005322383658565233\n",
      "bin2_min_y_val_accelerometer : 0.005273246083748338\n",
      "bin3_75_percentile_y_val_accelerometer : 0.005133416996654173\n",
      "bin5_75_percentile_y_val_accelerometer : 0.004849022420450797\n",
      "bin1_max_y_val_accelerometer : 0.004811904824010857\n",
      "bin2_75_percentile_x_val_gyroscope : 0.0047911597694588835\n",
      "bin5_min_y_val_gyroscope : 0.004783700600685903\n",
      "global_std_z_val_accelerometer : 0.0047750917597529\n",
      "bin2_95_percentile_z_val_accelerometer : 0.004758643871524929\n",
      "bin4_std_x_val_accelerometer : 0.004669037454801019\n",
      "bin1_25_percentile_z_val_gyroscope : 0.004624814869531087\n",
      "bin2_avg_x_val_accelerometer : 0.0045970660103002315\n",
      "bin1_med_z_val_gyroscope : 0.004575976858355827\n",
      "bin2_5_percentile_y_val_gyroscope : 0.004538704922652057\n",
      "bin3_max_z_val_gyroscope : 0.004470509080784057\n",
      "bin3_min_z_val_gyroscope : 0.004414367723452989\n",
      "bin4_min_x_val_accelerometer : 0.004389009084849991\n",
      "bin4_25_percentile_x_val_gyroscope : 0.004302368364100752\n",
      "bin5_max_x_val_gyroscope : 0.004281353963176578\n",
      "bin3_min_y_val_accelerometer : 0.004222047612358374\n",
      "bin4_5_percentile_x_val_gyroscope : 0.004210106231784994\n",
      "bin2_25_percentile_z_val_accelerometer : 0.004127528986706041\n",
      "bin5_avg_x_val_gyroscope : 0.004099812176655654\n",
      "bin4_25_percentile_y_val_accelerometer : 0.0040929003981288155\n",
      "bin2_min_z_val_accelerometer : 0.004051326500016589\n",
      "bin3_5_percentile_z_val_accelerometer : 0.004040185402362513\n",
      "bin5_25_percentile_x_val_gyroscope : 0.004028151726650941\n",
      "bin4_min_y_val_gyroscope : 0.003989035696368063\n",
      "global_min_y_val_gyroscope : 0.003958062749445923\n",
      "bin3_95_percentile_z_val_accelerometer : 0.003893215294788703\n",
      "bin5_5_percentile_z_val_gyroscope : 0.0038836646678027447\n",
      "bin1_min_z_val_gyroscope : 0.003835137382250791\n",
      "bin2_med_y_val_gyroscope : 0.00363527353896115\n",
      "bin2_5_percentile_y_val_accelerometer : 0.0035486947888118065\n",
      "bin3_avg_x_val_accelerometer : 0.003476749512256783\n",
      "bin2_25_percentile_y_val_gyroscope : 0.0034754734183929754\n",
      "bin3_min_x_val_accelerometer : 0.003468367884344834\n",
      "bin5_std_x_val_accelerometer : 0.0034473519146374586\n",
      "bin1_min_x_val_accelerometer : 0.003423223994002999\n",
      "bin4_std_y_val_gyroscope : 0.0034185643475255155\n",
      "global_5_percentile_z_val_accelerometer : 0.003395262019576596\n",
      "bin5_max_y_val_gyroscope : 0.0033498041476204797\n",
      "bin1_25_percentile_x_val_accelerometer : 0.0033464971185285857\n",
      "bin3_95_percentile_x_val_accelerometer : 0.0033021708600144604\n",
      "bin1_75_percentile_z_val_accelerometer : 0.0032841323896755383\n",
      "bin1_95_percentile_z_val_accelerometer : 0.0032370968530840774\n",
      "bin5_std_y_val_gyroscope : 0.003225525072596505\n",
      "bin2_avg_z_val_accelerometer : 0.0032027486153273443\n",
      "bin3_95_percentile_y_val_accelerometer : 0.0031653780436481293\n",
      "bin3_5_percentile_z_val_gyroscope : 0.00313836832424159\n",
      "bin4_25_percentile_y_val_gyroscope : 0.003132136632666105\n",
      "bin4_med_y_val_gyroscope : 0.003126277870519926\n",
      "bin5_5_percentile_y_val_accelerometer : 0.0031230068246994097\n",
      "global_med_x_val_gyroscope : 0.003074152757011968\n",
      "bin1_avg_z_val_accelerometer : 0.0030231084205058455\n",
      "bin3_min_z_val_accelerometer : 0.0030124327469513053\n",
      "bin5_med_y_val_gyroscope : 0.002997931295303499\n",
      "bin1_95_percentile_y_val_accelerometer : 0.00298989119847399\n",
      "global_std_x_val_gyroscope : 0.002921047130321413\n",
      "bin3_avg_y_val_accelerometer : 0.00291189992628811\n",
      "bin3_std_y_val_accelerometer : 0.0028566361877675767\n",
      "bin1_avg_x_val_accelerometer : 0.0028482422130035987\n",
      "global_min_x_val_accelerometer : 0.0028400315548445616\n",
      "global_75_percentile_x_val_accelerometer : 0.002831813520304969\n",
      "bin3_med_y_val_gyroscope : 0.0028149971934141415\n",
      "global_max_y_val_accelerometer : 0.002805067713912393\n",
      "bin3_95_percentile_z_val_gyroscope : 0.002803026737552203\n",
      "bin2_avg_x_val_gyroscope : 0.002791569619888218\n",
      "bin4_med_x_val_accelerometer : 0.0027645825277789115\n",
      "bin4_std_z_val_gyroscope : 0.0027390748594185\n",
      "bin2_95_percentile_y_val_accelerometer : 0.002735411472385173\n",
      "bin4_avg_x_val_accelerometer : 0.002731865875338412\n",
      "bin5_med_z_val_gyroscope : 0.002719772917763665\n",
      "bin1_med_z_val_accelerometer : 0.002716565598123975\n",
      "bin2_std_z_val_accelerometer : 0.0027060274499584296\n",
      "bin5_avg_z_val_gyroscope : 0.0027037942242586132\n",
      "bin5_95_percentile_y_val_gyroscope : 0.002685002757318951\n",
      "bin5_max_y_val_accelerometer : 0.0026821065427652608\n",
      "global_5_percentile_x_val_accelerometer : 0.0026693343520917635\n",
      "bin1_5_percentile_y_val_gyroscope : 0.0026671708722372334\n",
      "bin4_max_z_val_gyroscope : 0.0026535469413311\n",
      "bin1_std_x_val_gyroscope : 0.0026166844821542586\n",
      "bin4_max_x_val_accelerometer : 0.0026058384046550014\n",
      "bin1_med_x_val_gyroscope : 0.00259196850565139\n",
      "bin4_25_percentile_x_val_accelerometer : 0.002570376040018073\n",
      "bin3_75_percentile_x_val_gyroscope : 0.002521959243940443\n",
      "bin2_5_percentile_z_val_gyroscope : 0.002501939762179231\n",
      "bin4_max_y_val_gyroscope : 0.002468703211977037\n",
      "global_med_x_val_accelerometer : 0.002445332646054755\n",
      "bin3_std_z_val_gyroscope : 0.002434971444009362\n",
      "bin1_std_z_val_gyroscope : 0.002424613079383769\n",
      "bin5_75_percentile_z_val_accelerometer : 0.002409524023561488\n",
      "bin1_25_percentile_y_val_accelerometer : 0.0023974890527662875\n",
      "bin2_avg_y_val_accelerometer : 0.0023911029472650763\n",
      "bin1_75_percentile_x_val_gyroscope : 0.0023814523766251287\n",
      "bin5_5_percentile_z_val_accelerometer : 0.002380408638226842\n",
      "bin3_med_y_val_accelerometer : 0.0023606659594292826\n",
      "bin5_avg_z_val_accelerometer : 0.002354373895670881\n",
      "bin2_std_x_val_gyroscope : 0.0023347619799674924\n",
      "global_avg_z_val_gyroscope : 0.002316273890056222\n",
      "bin4_avg_x_val_gyroscope : 0.0023118037308556805\n",
      "global_25_percentile_z_val_accelerometer : 0.00230408607657501\n",
      "bin5_95_percentile_z_val_gyroscope : 0.002291045101803044\n",
      "bin1_min_y_val_accelerometer : 0.0022456321321587583\n",
      "bin5_min_x_val_gyroscope : 0.0022408728210385085\n",
      "bin5_std_z_val_accelerometer : 0.0021952830695021013\n",
      "bin2_25_percentile_x_val_gyroscope : 0.002190601025034763\n",
      "bin1_std_z_val_accelerometer : 0.002171736693074121\n",
      "bin5_med_x_val_gyroscope : 0.0021682047646212526\n",
      "bin5_med_y_val_accelerometer : 0.0021357125857821737\n",
      "bin3_min_y_val_gyroscope : 0.0021284836490470405\n",
      "global_max_y_val_gyroscope : 0.0021128957260540043\n",
      "global_95_percentile_x_val_accelerometer : 0.002091339517759126\n",
      "bin5_95_percentile_z_val_accelerometer : 0.002083782573152114\n",
      "bin3_std_x_val_accelerometer : 0.0020774994401932304\n",
      "bin4_min_y_val_accelerometer : 0.002075841800819899\n",
      "bin5_25_percentile_y_val_accelerometer : 0.002075338499855267\n",
      "bin2_min_x_val_accelerometer : 0.002061257980923227\n",
      "bin5_avg_y_val_accelerometer : 0.0020522358994350775\n",
      "bin2_med_y_val_accelerometer : 0.0020460176897186566\n",
      "bin2_avg_z_val_gyroscope : 0.0019970808089935384\n",
      "bin2_max_y_val_accelerometer : 0.001983717901403818\n",
      "bin4_med_z_val_gyroscope : 0.0019815086026949754\n",
      "bin5_min_y_val_accelerometer : 0.0019436617070920903\n",
      "bin4_min_z_val_gyroscope : 0.0019417991267347806\n",
      "bin5_std_y_val_accelerometer : 0.0019345967362404705\n",
      "bin3_max_x_val_gyroscope : 0.0019271504427269726\n",
      "bin1_max_x_val_accelerometer : 0.00188571088522187\n",
      "bin5_75_percentile_x_val_gyroscope : 0.0018557057022569813\n",
      "bin4_5_percentile_z_val_gyroscope : 0.0018399298938125645\n",
      "global_95_percentile_z_val_gyroscope : 0.0018347217930291236\n",
      "bin4_75_percentile_x_val_accelerometer : 0.001834232690790667\n",
      "bin4_max_y_val_accelerometer : 0.0017938057716025827\n",
      "bin3_5_percentile_x_val_gyroscope : 0.0017849527251300912\n",
      "global_min_z_val_gyroscope : 0.0017482776396867373\n",
      "global_med_z_val_gyroscope : 0.0017454135722383744\n",
      "bin1_25_percentile_y_val_gyroscope : 0.001744822850619327\n",
      "bin1_avg_y_val_accelerometer : 0.0017434828246645515\n",
      "bin5_95_percentile_x_val_gyroscope : 0.0017396587974075205\n",
      "bin4_25_percentile_z_val_gyroscope : 0.0017314144737591182\n",
      "global_max_x_val_accelerometer : 0.001724889082013296\n",
      "bin4_75_percentile_z_val_gyroscope : 0.0017228675294173503\n",
      "bin3_min_x_val_gyroscope : 0.0017209516203204845\n",
      "bin4_95_percentile_y_val_accelerometer : 0.0017143834272884495\n",
      "bin1_5_percentile_z_val_accelerometer : 0.001687379759599328\n",
      "bin2_max_x_val_gyroscope : 0.001680252976923481\n",
      "global_25_percentile_x_val_accelerometer : 0.0016769669642037327\n",
      "bin2_5_percentile_z_val_accelerometer : 0.0016605387674858436\n",
      "global_med_y_val_gyroscope : 0.0016509767730504665\n",
      "bin1_max_x_val_gyroscope : 0.001636176054145217\n",
      "bin1_25_percentile_z_val_accelerometer : 0.0016176287101442616\n",
      "bin1_95_percentile_y_val_gyroscope : 0.0016110174159833883\n",
      "global_max_x_val_gyroscope : 0.0015961310182719419\n",
      "bin4_min_z_val_accelerometer : 0.0015769584110035886\n",
      "bin1_min_x_val_gyroscope : 0.0015644614836240872\n",
      "bin2_med_z_val_gyroscope : 0.0015524802041194236\n",
      "bin3_std_z_val_accelerometer : 0.0015453417925927828\n",
      "bin3_75_percentile_y_val_gyroscope : 0.001543790301065857\n",
      "bin5_min_z_val_gyroscope : 0.0015244453742291777\n",
      "bin1_med_x_val_accelerometer : 0.0015211988188310206\n",
      "bin2_25_percentile_y_val_accelerometer : 0.0015084772297563667\n",
      "bin5_5_percentile_y_val_gyroscope : 0.0015056457557496908\n",
      "bin3_5_percentile_y_val_gyroscope : 0.0015053685326538752\n",
      "bin4_5_percentile_z_val_accelerometer : 0.0015033212629064878\n",
      "bin3_med_z_val_gyroscope : 0.0014976804317206852\n",
      "bin3_5_percentile_x_val_accelerometer : 0.001497598681964464\n",
      "global_avg_y_val_accelerometer : 0.001493545047708254\n",
      "bin2_25_percentile_x_val_accelerometer : 0.0014896871304092962\n",
      "bin5_max_z_val_gyroscope : 0.001489368996117358\n",
      "bin2_min_x_val_gyroscope : 0.0014300719007351616\n",
      "global_75_percentile_x_val_gyroscope : 0.0013657000598917843\n",
      "bin2_75_percentile_y_val_accelerometer : 0.0013628066635345036\n",
      "bin2_max_y_val_gyroscope : 0.0013557025734327458\n",
      "bin5_25_percentile_z_val_accelerometer : 0.0013519396911374384\n",
      "bin5_max_x_val_accelerometer : 0.0013436953446587753\n",
      "bin1_5_percentile_y_val_accelerometer : 0.0013355866263108447\n",
      "bin2_5_percentile_x_val_accelerometer : 0.0013297448303916542\n",
      "bin4_med_z_val_accelerometer : 0.0013263209231189385\n",
      "bin2_std_x_val_accelerometer : 0.0013088252126207164\n",
      "global_25_percentile_y_val_accelerometer : 0.0012971015519894094\n",
      "bin5_75_percentile_z_val_gyroscope : 0.0012964096771377407\n",
      "bin3_std_y_val_gyroscope : 0.0012902917063150365\n",
      "bin1_std_y_val_accelerometer : 0.0012894908176486041\n",
      "bin3_25_percentile_x_val_gyroscope : 0.0012717553271484605\n",
      "bin5_min_x_val_accelerometer : 0.0012712103209620036\n",
      "bin4_75_percentile_z_val_accelerometer : 0.0012609581601998791\n",
      "bin4_min_x_val_gyroscope : 0.0012520317237617138\n",
      "bin3_75_percentile_x_val_accelerometer : 0.0012407704973809877\n",
      "global_std_z_val_gyroscope : 0.0012051977072578682\n",
      "bin5_75_percentile_x_val_accelerometer : 0.0011955981367376598\n",
      "bin5_95_percentile_y_val_accelerometer : 0.001184284884863329\n",
      "global_25_percentile_z_val_gyroscope : 0.0011748467594836856\n",
      "global_75_percentile_z_val_gyroscope : 0.0011721010565737045\n",
      "bin5_med_z_val_accelerometer : 0.0011665317043504642\n",
      "bin1_75_percentile_y_val_gyroscope : 0.0011664694933758114\n",
      "bin1_95_percentile_x_val_gyroscope : 0.0011460987743237712\n",
      "bin1_avg_z_val_gyroscope : 0.001114183195205275\n",
      "bin1_75_percentile_y_val_accelerometer : 0.0011112288772929342\n",
      "bin4_75_percentile_y_val_accelerometer : 0.0011089327559186577\n",
      "bin3_75_percentile_z_val_gyroscope : 0.0010622468968419423\n",
      "global_5_percentile_z_val_gyroscope : 0.0010621377439124222\n",
      "bin2_95_percentile_x_val_accelerometer : 0.0010541733797012982\n",
      "bin4_5_percentile_y_val_gyroscope : 0.0010518886653656618\n",
      "bin4_95_percentile_x_val_accelerometer : 0.0010414892292598531\n",
      "bin5_5_percentile_x_val_accelerometer : 0.0010361221051864442\n",
      "bin2_95_percentile_y_val_gyroscope : 0.001019890028886278\n",
      "bin5_25_percentile_y_val_gyroscope : 0.0009886117074730484\n",
      "bin2_95_percentile_x_val_gyroscope : 0.0009855069815715475\n",
      "bin5_min_z_val_accelerometer : 0.0009782127903673527\n",
      "bin3_25_percentile_z_val_gyroscope : 0.0009715861602337337\n",
      "global_std_y_val_gyroscope : 0.0009667733787603596\n",
      "bin1_avg_x_val_gyroscope : 0.0009550910688920611\n",
      "bin3_95_percentile_x_val_gyroscope : 0.0009536058550127053\n",
      "bin1_max_y_val_gyroscope : 0.0009344800669817676\n",
      "global_75_percentile_y_val_accelerometer : 0.0009237662883297098\n",
      "bin2_med_z_val_accelerometer : 0.0009150932772322376\n",
      "bin3_25_percentile_y_val_accelerometer : 0.0009085337013689687\n",
      "bin2_75_percentile_y_val_gyroscope : 0.0009074520988096908\n",
      "bin1_95_percentile_x_val_accelerometer : 0.000906315411713949\n",
      "bin4_med_x_val_gyroscope : 0.0008898555202963084\n",
      "bin5_std_x_val_gyroscope : 0.0008884318654302178\n",
      "global_med_y_val_accelerometer : 0.0008707301815082259\n",
      "bin4_75_percentile_x_val_gyroscope : 0.0008459734466774582\n",
      "bin5_25_percentile_z_val_gyroscope : 0.0008455432487290827\n",
      "bin5_avg_x_val_accelerometer : 0.0008361228431385644\n",
      "bin2_max_x_val_accelerometer : 0.0008257062400226281\n",
      "global_avg_x_val_gyroscope : 0.0008094446229083434\n",
      "bin3_std_x_val_gyroscope : 0.0007957198169900486\n",
      "bin4_avg_z_val_accelerometer : 0.0007917283926008129\n",
      "global_avg_y_val_gyroscope : 0.0007858711632849878\n",
      "bin3_max_y_val_accelerometer : 0.0007767323101595085\n",
      "bin1_75_percentile_z_val_gyroscope : 0.0007747575908762027\n",
      "bin3_95_percentile_y_val_gyroscope : 0.0007703825764435809\n",
      "bin3_25_percentile_y_val_gyroscope : 0.0007665023929726831\n",
      "bin4_max_z_val_accelerometer : 0.0007351507644797296\n",
      "bin2_med_x_val_gyroscope : 0.0007157056584675471\n",
      "bin4_25_percentile_z_val_accelerometer : 0.0007109972502403281\n",
      "bin1_avg_y_val_gyroscope : 0.0007102020115658458\n",
      "bin3_med_x_val_gyroscope : 0.0007098930206128466\n",
      "bin5_5_percentile_x_val_gyroscope : 0.0007054640680725989\n",
      "bin4_95_percentile_z_val_gyroscope : 0.0006888971315704777\n",
      "bin5_std_z_val_gyroscope : 0.0006877391948600779\n",
      "bin4_avg_y_val_gyroscope : 0.0006708759444042629\n",
      "bin4_avg_z_val_gyroscope : 0.0006602238848755867\n",
      "bin1_med_y_val_accelerometer : 0.0006495106230103649\n",
      "bin2_5_percentile_x_val_gyroscope : 0.0006241631654277661\n",
      "bin1_med_y_val_gyroscope : 0.0005933811639625858\n",
      "bin3_max_x_val_accelerometer : 0.000572983098752136\n",
      "bin4_95_percentile_z_val_accelerometer : 0.0005538816022686988\n",
      "bin4_5_percentile_x_val_accelerometer : 0.0005450037250884707\n",
      "bin4_std_y_val_accelerometer : 0.0005424156317714352\n",
      "bin1_min_z_val_accelerometer : 0.0005060584113064242\n",
      "bin2_75_percentile_x_val_accelerometer : 0.0005056766605397467\n",
      "bin1_5_percentile_x_val_gyroscope : 0.0005047651762486778\n",
      "bin5_avg_y_val_gyroscope : 0.0004978359276083238\n",
      "bin3_avg_y_val_gyroscope : 0.00048614874557684337\n",
      "global_95_percentile_y_val_accelerometer : 0.00046234308550204884\n",
      "bin5_med_x_val_accelerometer : 0.00045272494962897376\n",
      "bin2_med_x_val_accelerometer : 0.00040733706680291744\n",
      "bin4_5_percentile_y_val_accelerometer : 0.00037425916996576346\n",
      "bin4_avg_y_val_accelerometer : 0.00034745336816227514\n",
      "bin1_std_x_val_accelerometer : 0.0003163830657050934\n",
      "bin1_5_percentile_x_val_accelerometer : 0.0002889073789611421\n",
      "bin1_5_percentile_z_val_gyroscope : 0.0002694772423182548\n",
      "bin1_max_z_val_accelerometer : 0.00026875460161976996\n",
      "bin4_95_percentile_y_val_gyroscope : 0.0002499845916795055\n",
      "global_med_z_val_accelerometer : 0.00024136829290980622\n",
      "bin4_med_y_val_accelerometer : 0.0002394732709693338\n",
      "bin4_std_z_val_accelerometer : 0.00023924164057892113\n",
      "global_25_percentile_y_val_gyroscope : 0.00021640645785256642\n",
      "global_75_percentile_y_val_gyroscope : 0.00018127460289747572\n",
      "bin2_std_y_val_gyroscope : 9.309969699245156e-05\n",
      "bin4_75_percentile_y_val_gyroscope : 2.8079381379414435e-05\n"
     ]
    }
   ],
   "source": [
    "features_dict = dict()\n",
    "for ft_index, ft_name in zip(range(0, 324), window_5_df.columns):\n",
    "    features_dict[ft_index] = ft_name\n",
    "\n",
    "# select the features that \n",
    "n_features = len(rf_model_5.featureImportances.indices) \n",
    "\n",
    "important_features = []\n",
    "for impt, feature_index in sorted(zip(rf_model_5.featureImportances.values, \n",
    "                                      rf_model_5.featureImportances.indices), reverse=True)[:n_features]:\n",
    "    important_features.append(features_dict[feature_index])\n",
    "    print(f\"{features_dict[feature_index]} : {impt}\")"
   ]
  },
  {
   "cell_type": "code",
   "execution_count": 21,
   "metadata": {
    "ExecuteTime": {
     "end_time": "2019-01-18T22:42:47.265690Z",
     "start_time": "2019-01-18T22:42:44.962623Z"
    }
   },
   "outputs": [],
   "source": [
    "# unimportant features\n",
    "unimportant_features = [feature for feature in range(324) \n",
    "                        if feature not in rf_model_5.featureImportances.indices] # indices\n",
    "\n",
    "unimportant_features = [features_dict[index] for index in unimportant_features]"
   ]
  },
  {
   "cell_type": "markdown",
   "metadata": {},
   "source": [
    "__Features vector and Label vector for the selected set of features__\n",
    "\n",
    "We will use the features and label vectors built from this set of `important_features` as inputs for an alternative model of the following algorithms and compare the performance before and after feature selection:"
   ]
  },
  {
   "cell_type": "code",
   "execution_count": 22,
   "metadata": {
    "ExecuteTime": {
     "end_time": "2019-01-18T22:42:54.760970Z",
     "start_time": "2019-01-18T22:42:53.998447Z"
    },
    "scrolled": true
   },
   "outputs": [
    {
     "data": {
      "text/plain": [
       "DataFrame[features: vector, label: int]"
      ]
     },
     "execution_count": 22,
     "metadata": {},
     "output_type": "execute_result"
    }
   ],
   "source": [
    "va_5_train_top = VectorAssembler(outputCol=\"features\", inputCols=important_features)\n",
    "training_set_5_top = va_5_train_top.transform(window_5_train).select(\"features\", \"label\")\n",
    "\n",
    "va_5_test_top = VectorAssembler(outputCol=\"features\", inputCols=important_features)\n",
    "testing_set_5_top = va_5_test_top.transform(window_5_test).select(\"features\", \"label\")\n",
    "training_set_5_top.cache()\n",
    "testing_set_5_top.cache()"
   ]
  },
  {
   "cell_type": "markdown",
   "metadata": {},
   "source": [
    "## 1.4 Model 2: Logistic Regression "
   ]
  },
  {
   "cell_type": "markdown",
   "metadata": {},
   "source": [
    "### 1.4.1 model training and evaluation"
   ]
  },
  {
   "cell_type": "code",
   "execution_count": 23,
   "metadata": {
    "ExecuteTime": {
     "end_time": "2019-01-18T22:43:19.541570Z",
     "start_time": "2019-01-18T22:43:05.190463Z"
    }
   },
   "outputs": [],
   "source": [
    "start_lr_5 = time()\n",
    "\n",
    "lr_5 = LogisticRegression(regParam=0.01, maxIter=1000, fitIntercept=True)\n",
    "lr_model_5 = lr_5.fit(training_set_5)\n",
    "\n",
    "lr_5_predict = lr_model_5.transform(testing_set_5)\n",
    "#lr_5_predict.show()\n",
    "\n",
    "bc_eval = BinaryClassificationEvaluator()\n",
    "\n",
    "evaluator_f1_5_lr = MulticlassClassificationEvaluator(labelCol=\"label\", predictionCol=\"prediction\", metricName=\"f1\")\n",
    "f1_window_5_lr = evaluator_f1_5.evaluate(lr_5_predict)\n",
    "\n",
    "evaluator_accuracy_5_lr = MulticlassClassificationEvaluator(labelCol=\"label\", predictionCol=\"prediction\", metricName=\"accuracy\")\n",
    "accuracy_window_5_lr = evaluator_accuracy_5.evaluate(lr_5_predict)\n",
    "\n",
    "evaluator_precision_5_lr = MulticlassClassificationEvaluator(labelCol=\"label\", predictionCol=\"prediction\", metricName=\"weightedPrecision\")\n",
    "precision_window_5_lr = evaluator_precision_5_lr.evaluate(lr_5_predict)\n",
    "\n",
    "evaluator_recall_5_lr = MulticlassClassificationEvaluator(labelCol=\"label\", predictionCol=\"prediction\", metricName=\"weightedRecall\")\n",
    "recall_window_5_lr = evaluator_recall_5_lr.evaluate(lr_5_predict)\n",
    "\n",
    "end_lr_5 = time()"
   ]
  },
  {
   "cell_type": "markdown",
   "metadata": {},
   "source": [
    "### 1.4.2 confusion matrix"
   ]
  },
  {
   "cell_type": "code",
   "execution_count": 24,
   "metadata": {
    "ExecuteTime": {
     "end_time": "2019-01-18T22:43:27.624482Z",
     "start_time": "2019-01-18T22:43:25.292079Z"
    }
   },
   "outputs": [
    {
     "name": "stdout",
     "output_type": "stream",
     "text": [
      "+-----+----------+-----+\n",
      "|label|prediction|count|\n",
      "+-----+----------+-----+\n",
      "|    1|       0.0|   18|\n",
      "|    0|       0.0|   79|\n",
      "|    1|       1.0|   48|\n",
      "|    0|       1.0|   19|\n",
      "+-----+----------+-----+\n",
      "\n"
     ]
    }
   ],
   "source": [
    "lr_5_predict.select('label','prediction').groupBy('label','prediction').count().show()"
   ]
  },
  {
   "cell_type": "markdown",
   "metadata": {},
   "source": [
    "### 1.4.3 classification metrics"
   ]
  },
  {
   "cell_type": "code",
   "execution_count": 25,
   "metadata": {
    "ExecuteTime": {
     "end_time": "2019-01-18T22:43:30.652175Z",
     "start_time": "2019-01-18T22:43:30.641863Z"
    }
   },
   "outputs": [
    {
     "name": "stdout",
     "output_type": "stream",
     "text": [
      "F1 score = 0.77466\n",
      "Accuracy = 0.77439\n",
      "Test Error = 0.22561\n",
      "Precision = 0.774988\n",
      "Recall = 0.77439\n",
      "TimeInSeconds = 14.3331\n"
     ]
    }
   ],
   "source": [
    "print(\"F1 score = %g\" % (f1_window_5_lr))\n",
    "print(\"Accuracy = %g\" % (accuracy_window_5_lr))\n",
    "print(\"Test Error = %g\" % (1.0 - accuracy_window_5_lr))\n",
    "print(\"Precision = %g\" % (precision_window_5_lr))\n",
    "print(\"Recall = %g\" % (recall_window_5_lr))\n",
    "print(\"TimeInSeconds = %g\" % (end_lr_5-start_lr_5))"
   ]
  },
  {
   "cell_type": "markdown",
   "metadata": {},
   "source": [
    "## Logistic Regression on selected features"
   ]
  },
  {
   "cell_type": "code",
   "execution_count": 27,
   "metadata": {
    "ExecuteTime": {
     "end_time": "2019-01-18T22:44:52.978005Z",
     "start_time": "2019-01-18T22:44:38.823834Z"
    }
   },
   "outputs": [],
   "source": [
    "start_lr_5_top = time()\n",
    "lr_5_top = LogisticRegression(regParam=0.01, maxIter=1000, fitIntercept=True)\n",
    "lr_model_5_top = lr_5_top.fit(training_set_5_top)\n",
    "\n",
    "lr_5_predict_top = lr_model_5_top.transform(testing_set_5_top)\n",
    "# lr_5_predict_top.show()\n",
    "\n",
    "bc_eval = BinaryClassificationEvaluator()\n",
    "# print (bc_eval.getMetricName() +\":\" + str(bc_eval.evaluate(lr_5_predict_top)))\n",
    "\n",
    "evaluator_f1_5_lr_top = MulticlassClassificationEvaluator(labelCol=\"label\", \n",
    "                                                          predictionCol=\"prediction\", \n",
    "                                                          metricName=\"f1\")\n",
    "f1_window_5_lr_top = evaluator_f1_5_lr_top.evaluate(lr_5_predict_top)\n",
    "\n",
    "evaluator_accuracy_5_lr_top = MulticlassClassificationEvaluator(labelCol=\"label\", \n",
    "                                                                predictionCol=\"prediction\", \n",
    "                                                                metricName=\"accuracy\")\n",
    "accuracy_window_5_lr_top = evaluator_accuracy_5.evaluate(lr_5_predict_top)\n",
    "\n",
    "evaluator_precision_5_lr_top = MulticlassClassificationEvaluator(labelCol=\"label\", \n",
    "                                                                 predictionCol=\"prediction\", \n",
    "                                                                 metricName=\"weightedPrecision\")\n",
    "precision_window_5_lr_top = evaluator_precision_5_lr_top.evaluate(lr_5_predict_top)\n",
    "\n",
    "evaluator_recall_5_lr_top = MulticlassClassificationEvaluator(labelCol=\"label\", \n",
    "                                                              predictionCol=\"prediction\", \n",
    "                                                              metricName=\"weightedRecall\")\n",
    "recall_window_5_lr_top = evaluator_recall_5_lr_top.evaluate(lr_5_predict_top)\n",
    "end_lr_5_top = time()"
   ]
  },
  {
   "cell_type": "markdown",
   "metadata": {},
   "source": [
    "### Confusion matrix"
   ]
  },
  {
   "cell_type": "code",
   "execution_count": 28,
   "metadata": {
    "ExecuteTime": {
     "end_time": "2019-01-18T22:47:32.333380Z",
     "start_time": "2019-01-18T22:47:30.511031Z"
    }
   },
   "outputs": [
    {
     "name": "stdout",
     "output_type": "stream",
     "text": [
      "+-----+----------+-----+\n",
      "|label|prediction|count|\n",
      "+-----+----------+-----+\n",
      "|    1|       0.0|   17|\n",
      "|    0|       0.0|   79|\n",
      "|    1|       1.0|   49|\n",
      "|    0|       1.0|   19|\n",
      "+-----+----------+-----+\n",
      "\n"
     ]
    }
   ],
   "source": [
    "lr_5_predict_top.select('label','prediction').groupBy('label','prediction').count().show()"
   ]
  },
  {
   "cell_type": "markdown",
   "metadata": {},
   "source": [
    "### Classification metrics"
   ]
  },
  {
   "cell_type": "code",
   "execution_count": 29,
   "metadata": {
    "ExecuteTime": {
     "end_time": "2019-01-18T22:47:35.605686Z",
     "start_time": "2019-01-18T22:47:35.598247Z"
    }
   },
   "outputs": [
    {
     "name": "stdout",
     "output_type": "stream",
     "text": [
      "F1 score = 0.780994\n",
      "Accuracy = 0.780488\n",
      "Test Error = 0.219512\n",
      "Precision = 0.781736\n",
      "Recall = 0.780488\n"
     ]
    }
   ],
   "source": [
    "print(\"F1 score = %g\" % (f1_window_5_lr_top))\n",
    "print(\"Accuracy = %g\" % (accuracy_window_5_lr_top))\n",
    "print(\"Test Error = %g\" % (1.0 - accuracy_window_5_lr_top))\n",
    "print(\"Precision = %g\" % (precision_window_5_lr_top))\n",
    "print(\"Recall = %g\" % (recall_window_5_lr_top))"
   ]
  },
  {
   "cell_type": "markdown",
   "metadata": {},
   "source": [
    "## 1.5 Model 3: Gradient-boosted tree classifier"
   ]
  },
  {
   "cell_type": "markdown",
   "metadata": {},
   "source": [
    "### 1.5.1 model training and evaluation"
   ]
  },
  {
   "cell_type": "code",
   "execution_count": 30,
   "metadata": {
    "ExecuteTime": {
     "end_time": "2019-01-18T22:48:37.867607Z",
     "start_time": "2019-01-18T22:47:42.951762Z"
    }
   },
   "outputs": [],
   "source": [
    "start_gbt_5 = time()\n",
    "gbt_5 = GBTClassifier(maxIter=50, seed=42)\n",
    "gbt_model_5 = gbt_5.fit(training_set_5)\n",
    "\n",
    "gbt_5_predict = gbt_model_5.transform(testing_set_5)\n",
    "\n",
    "gbt_evaluator_accuracy_5 = MulticlassClassificationEvaluator(labelCol=\"label\", predictionCol=\"prediction\", metricName=\"accuracy\")\n",
    "gbt_accuracy_5 = gbt_evaluator_accuracy_5.evaluate(gbt_5_predict)\n",
    "\n",
    "gbt_evaluator_precision_5 = MulticlassClassificationEvaluator(labelCol=\"label\", predictionCol=\"prediction\", metricName=\"weightedPrecision\")\n",
    "gbt_precision_5 = gbt_evaluator_precision_5.evaluate(gbt_5_predict)\n",
    "\n",
    "gbt_evaluator_f1_5 = MulticlassClassificationEvaluator(labelCol=\"label\", predictionCol=\"prediction\", metricName=\"f1\")\n",
    "gbt_f1_5 = gbt_evaluator_f1_5.evaluate(gbt_5_predict)\n",
    "\n",
    "gbt_evaluator_recall_5 = MulticlassClassificationEvaluator(labelCol=\"label\", predictionCol=\"prediction\", metricName=\"weightedRecall\")\n",
    "gbt_recall_5 = gbt_evaluator_recall_5.evaluate(gbt_5_predict)\n",
    "\n",
    "end_gbt_5 = time()"
   ]
  },
  {
   "cell_type": "markdown",
   "metadata": {},
   "source": [
    "### 1.5.2 confusion matrix"
   ]
  },
  {
   "cell_type": "code",
   "execution_count": 31,
   "metadata": {
    "ExecuteTime": {
     "end_time": "2019-01-18T22:48:39.708003Z",
     "start_time": "2019-01-18T22:48:37.870491Z"
    }
   },
   "outputs": [
    {
     "name": "stdout",
     "output_type": "stream",
     "text": [
      "+-----+----------+-----+\n",
      "|label|prediction|count|\n",
      "+-----+----------+-----+\n",
      "|    1|       0.0|   11|\n",
      "|    0|       0.0|   81|\n",
      "|    1|       1.0|   55|\n",
      "|    0|       1.0|   17|\n",
      "+-----+----------+-----+\n",
      "\n"
     ]
    }
   ],
   "source": [
    "gbt_5_predict.select('label','prediction').groupBy('label','prediction').count().show()"
   ]
  },
  {
   "cell_type": "markdown",
   "metadata": {},
   "source": [
    "### 1.5.3 classification metrics"
   ]
  },
  {
   "cell_type": "code",
   "execution_count": 32,
   "metadata": {
    "ExecuteTime": {
     "end_time": "2019-01-18T22:48:39.719414Z",
     "start_time": "2019-01-18T22:48:39.711679Z"
    }
   },
   "outputs": [
    {
     "name": "stdout",
     "output_type": "stream",
     "text": [
      "F1 score = 0.830284\n",
      "Accuracy = 0.829268\n",
      "Test Error = 0.170732\n",
      "Precision = 0.833532\n",
      "Recall = 0.829268\n",
      "TimeInSeconds = 54.9102\n"
     ]
    }
   ],
   "source": [
    "print(\"F1 score = %g\" % (gbt_f1_5))\n",
    "print(\"Accuracy = %g\" % (gbt_accuracy_5))\n",
    "print(\"Test Error = %g\" % (1.0 - gbt_accuracy_5))\n",
    "print(\"Precision = %g\" % (gbt_precision_5))\n",
    "print(\"Recall = %g\" % (gbt_recall_5))\n",
    "print(\"TimeInSeconds = %g\" % (end_gbt_5-start_gbt_5))"
   ]
  },
  {
   "cell_type": "markdown",
   "metadata": {},
   "source": [
    "### Gradient-boosted tree on selected features"
   ]
  },
  {
   "cell_type": "code",
   "execution_count": 33,
   "metadata": {
    "ExecuteTime": {
     "end_time": "2019-01-18T22:49:31.586189Z",
     "start_time": "2019-01-18T22:48:39.724666Z"
    }
   },
   "outputs": [],
   "source": [
    "start_gbt_5_top = time()\n",
    "gbt_5_top = GBTClassifier(maxIter=50, seed=42)\n",
    "gbt_model_5_top = gbt_5_top.fit(training_set_5_top)\n",
    "\n",
    "gbt_5_predict_top = gbt_model_5_top.transform(testing_set_5_top)\n",
    "\n",
    "gbt_evaluator_accuracy_5_top = MulticlassClassificationEvaluator(labelCol=\"label\", predictionCol=\"prediction\", metricName=\"accuracy\")\n",
    "gbt_accuracy_5_top = gbt_evaluator_accuracy_5_top.evaluate(gbt_5_predict_top)\n",
    "\n",
    "gbt_evaluator_precision_5_top = MulticlassClassificationEvaluator(labelCol=\"label\", predictionCol=\"prediction\", metricName=\"weightedPrecision\")\n",
    "gbt_precision_5_top = gbt_evaluator_precision_5_top.evaluate(gbt_5_predict_top)\n",
    "\n",
    "gbt_evaluator_f1_5_top = MulticlassClassificationEvaluator(labelCol=\"label\", predictionCol=\"prediction\", metricName=\"f1\")\n",
    "gbt_f1_5_top = gbt_evaluator_f1_5_top.evaluate(gbt_5_predict_top)\n",
    "\n",
    "gbt_evaluator_recall_5_top = MulticlassClassificationEvaluator(labelCol=\"label\", predictionCol=\"prediction\", metricName=\"weightedRecall\")\n",
    "gbt_recall_5_top = gbt_evaluator_recall_5_top.evaluate(gbt_5_predict_top)\n",
    "\n",
    "end_gbt_5_top = time()"
   ]
  },
  {
   "cell_type": "markdown",
   "metadata": {},
   "source": [
    "### Confusion matrix"
   ]
  },
  {
   "cell_type": "code",
   "execution_count": 34,
   "metadata": {
    "ExecuteTime": {
     "end_time": "2019-01-18T22:49:33.719050Z",
     "start_time": "2019-01-18T22:49:31.588819Z"
    }
   },
   "outputs": [
    {
     "name": "stdout",
     "output_type": "stream",
     "text": [
      "+-----+----------+-----+\n",
      "|label|prediction|count|\n",
      "+-----+----------+-----+\n",
      "|    1|       0.0|    8|\n",
      "|    0|       0.0|   79|\n",
      "|    1|       1.0|   58|\n",
      "|    0|       1.0|   19|\n",
      "+-----+----------+-----+\n",
      "\n"
     ]
    }
   ],
   "source": [
    "gbt_5_predict_top.select('label','prediction').groupBy('label','prediction').count().show()"
   ]
  },
  {
   "cell_type": "markdown",
   "metadata": {},
   "source": [
    "### Performance metrics"
   ]
  },
  {
   "cell_type": "code",
   "execution_count": 35,
   "metadata": {
    "ExecuteTime": {
     "end_time": "2019-01-18T22:50:44.734879Z",
     "start_time": "2019-01-18T22:50:44.727455Z"
    }
   },
   "outputs": [
    {
     "name": "stdout",
     "output_type": "stream",
     "text": [
      "F1 score = 0.836803\n",
      "Accuracy = 0.835366\n",
      "Test Error = 0.164634\n",
      "Precision = 0.845749\n",
      "Recall = 0.835366\n"
     ]
    }
   ],
   "source": [
    "print(\"F1 score = %g\" % (gbt_f1_5_top))\n",
    "print(\"Accuracy = %g\" % (gbt_accuracy_5_top))\n",
    "print(\"Test Error = %g\" % (1.0 - gbt_accuracy_5_top))\n",
    "print(\"Precision = %g\" % (gbt_precision_5_top))\n",
    "print(\"Recall = %g\" % (gbt_recall_5_top))"
   ]
  },
  {
   "cell_type": "markdown",
   "metadata": {},
   "source": [
    "## 1.6 Model 4: Linear Support Vector Machine"
   ]
  },
  {
   "cell_type": "markdown",
   "metadata": {},
   "source": [
    "### 1.6.1 model training and evaluation"
   ]
  },
  {
   "cell_type": "code",
   "execution_count": 36,
   "metadata": {
    "ExecuteTime": {
     "end_time": "2019-01-18T22:51:13.389745Z",
     "start_time": "2019-01-18T22:50:59.458392Z"
    }
   },
   "outputs": [],
   "source": [
    "start_svm_5 = time()\n",
    "svm_5 = LinearSVC(maxIter=100, regParam=0.1)\n",
    "svm_model_5 = svm_5.fit(training_set_5)\n",
    "\n",
    "svm_5_predict = svm_model_5.transform(testing_set_5)\n",
    "\n",
    "svm_evaluator_accuracy_5 = MulticlassClassificationEvaluator(labelCol=\"label\", predictionCol=\"prediction\", metricName=\"accuracy\")\n",
    "svm_accuracy_5 = svm_evaluator_accuracy_5.evaluate(svm_5_predict)\n",
    "\n",
    "svm_evaluator_precision_5 = MulticlassClassificationEvaluator(labelCol=\"label\", predictionCol=\"prediction\", metricName=\"weightedPrecision\")\n",
    "svm_precision_5 = svm_evaluator_precision_5.evaluate(svm_5_predict)\n",
    "\n",
    "svm_evaluator_f1_5 = MulticlassClassificationEvaluator(labelCol=\"label\", predictionCol=\"prediction\", metricName=\"f1\")\n",
    "svm_f1_5 = svm_evaluator_f1_5.evaluate(svm_5_predict)\n",
    "\n",
    "svm_evaluator_recall_5 = MulticlassClassificationEvaluator(labelCol=\"label\", predictionCol=\"prediction\", metricName=\"weightedRecall\")\n",
    "svm_recall_5 = svm_evaluator_recall_5.evaluate(svm_5_predict)\n",
    "end_svm_5 = time()"
   ]
  },
  {
   "cell_type": "markdown",
   "metadata": {},
   "source": [
    "### 1.6.2 confusion matrix"
   ]
  },
  {
   "cell_type": "code",
   "execution_count": 37,
   "metadata": {
    "ExecuteTime": {
     "end_time": "2019-01-18T22:51:14.881039Z",
     "start_time": "2019-01-18T22:51:13.394184Z"
    }
   },
   "outputs": [
    {
     "name": "stdout",
     "output_type": "stream",
     "text": [
      "+-----+----------+-----+\n",
      "|label|prediction|count|\n",
      "+-----+----------+-----+\n",
      "|    1|       0.0|   16|\n",
      "|    0|       0.0|   79|\n",
      "|    1|       1.0|   50|\n",
      "|    0|       1.0|   19|\n",
      "+-----+----------+-----+\n",
      "\n"
     ]
    }
   ],
   "source": [
    "svm_5_predict.select('label','prediction').groupBy('label','prediction').count().show()"
   ]
  },
  {
   "cell_type": "markdown",
   "metadata": {},
   "source": [
    "### 1.6.3 classification metrics"
   ]
  },
  {
   "cell_type": "code",
   "execution_count": 38,
   "metadata": {
    "ExecuteTime": {
     "end_time": "2019-01-18T22:51:14.891161Z",
     "start_time": "2019-01-18T22:51:14.884283Z"
    }
   },
   "outputs": [
    {
     "name": "stdout",
     "output_type": "stream",
     "text": [
      "F1 score = 0.787298\n",
      "Accuracy = 0.786585\n",
      "Test Error = 0.213415\n",
      "Precision = 0.788542\n",
      "Recall = 0.786585\n",
      "TimeInSeconds = 13.9244\n"
     ]
    }
   ],
   "source": [
    "print(\"F1 score = %g\" % (svm_f1_5))\n",
    "print(\"Accuracy = %g\" % (svm_accuracy_5))\n",
    "print(\"Test Error = %g\" % (1.0 - svm_accuracy_5))\n",
    "print(\"Precision = %g\" % (svm_precision_5))\n",
    "print(\"Recall = %g\" % (svm_recall_5))\n",
    "print(\"TimeInSeconds = %g\" % (end_svm_5-start_svm_5))"
   ]
  },
  {
   "cell_type": "markdown",
   "metadata": {},
   "source": [
    "## Linear Support Vector Machine on selected features"
   ]
  },
  {
   "cell_type": "code",
   "execution_count": 39,
   "metadata": {
    "ExecuteTime": {
     "end_time": "2019-01-18T22:51:27.379561Z",
     "start_time": "2019-01-18T22:51:14.896247Z"
    }
   },
   "outputs": [],
   "source": [
    "start_svm_5_top = time()\n",
    "\n",
    "svm_5_top = LinearSVC(maxIter=100, regParam=0.1)\n",
    "svm_model_5_top = svm_5_top.fit(training_set_5_top)\n",
    "\n",
    "svm_5_predict_top = svm_model_5_top.transform(testing_set_5_top)\n",
    "\n",
    "svm_evaluator_accuracy_5_top = MulticlassClassificationEvaluator(labelCol=\"label\", \n",
    "                                                             predictionCol=\"prediction\", \n",
    "                                                             metricName=\"accuracy\")\n",
    "svm_accuracy_5_top = svm_evaluator_accuracy_5_top.evaluate(svm_5_predict_top)\n",
    "\n",
    "svm_evaluator_precision_5_top = MulticlassClassificationEvaluator(labelCol=\"label\", \n",
    "                                                              predictionCol=\"prediction\", \n",
    "                                                              metricName=\"weightedPrecision\")\n",
    "svm_precision_5_top = svm_evaluator_precision_5_top.evaluate(svm_5_predict_top)\n",
    "\n",
    "svm_evaluator_f1_5_top = MulticlassClassificationEvaluator(labelCol=\"label\", predictionCol=\"prediction\", metricName=\"f1\")\n",
    "svm_f1_5_top = svm_evaluator_f1_5_top.evaluate(svm_5_predict_top)\n",
    "\n",
    "svm_evaluator_recall_5_top = MulticlassClassificationEvaluator(labelCol=\"label\", predictionCol=\"prediction\", metricName=\"weightedRecall\")\n",
    "svm_recall_5_top = svm_evaluator_recall_5_top.evaluate(svm_5_predict_top)\n",
    "\n",
    "end_svm_5_top = time()"
   ]
  },
  {
   "cell_type": "markdown",
   "metadata": {},
   "source": [
    "### Confusion Matrix"
   ]
  },
  {
   "cell_type": "code",
   "execution_count": 40,
   "metadata": {
    "ExecuteTime": {
     "end_time": "2019-01-18T22:51:29.498560Z",
     "start_time": "2019-01-18T22:51:27.383291Z"
    }
   },
   "outputs": [
    {
     "name": "stdout",
     "output_type": "stream",
     "text": [
      "+-----+----------+-----+\n",
      "|label|prediction|count|\n",
      "+-----+----------+-----+\n",
      "|    1|       0.0|   16|\n",
      "|    0|       0.0|   79|\n",
      "|    1|       1.0|   50|\n",
      "|    0|       1.0|   19|\n",
      "+-----+----------+-----+\n",
      "\n"
     ]
    }
   ],
   "source": [
    "svm_5_predict_top.select('label','prediction').groupBy('label','prediction').count().show()"
   ]
  },
  {
   "cell_type": "markdown",
   "metadata": {},
   "source": [
    "### Performance metrics"
   ]
  },
  {
   "cell_type": "code",
   "execution_count": 41,
   "metadata": {
    "ExecuteTime": {
     "end_time": "2019-01-18T22:51:29.509740Z",
     "start_time": "2019-01-18T22:51:29.502418Z"
    }
   },
   "outputs": [
    {
     "name": "stdout",
     "output_type": "stream",
     "text": [
      "F1 score = 0.787298\n",
      "Accuracy = 0.786585\n",
      "Test Error = 0.213415\n",
      "Precision = 0.788542\n",
      "Recall = 0.786585\n"
     ]
    }
   ],
   "source": [
    "print(\"F1 score = %g\" % (svm_f1_5_top))\n",
    "print(\"Accuracy = %g\" % (svm_accuracy_5_top))\n",
    "print(\"Test Error = %g\" % (1.0 - svm_accuracy_5_top))\n",
    "print(\"Precision = %g\" % (svm_precision_5_top))\n",
    "print(\"Recall = %g\" % (svm_recall_5_top))"
   ]
  },
  {
   "cell_type": "markdown",
   "metadata": {},
   "source": [
    "## 1.7 Model 5: OneVsRest "
   ]
  },
  {
   "cell_type": "markdown",
   "metadata": {},
   "source": [
    "### 1.7.1 model training and evaluation"
   ]
  },
  {
   "cell_type": "code",
   "execution_count": 42,
   "metadata": {
    "ExecuteTime": {
     "end_time": "2019-01-18T22:51:55.263452Z",
     "start_time": "2019-01-18T22:51:29.514270Z"
    }
   },
   "outputs": [],
   "source": [
    "start_ovr_5 = time()\n",
    "ovr = OneVsRest(classifier=lr_5)\n",
    "evaluator_f1 = MulticlassClassificationEvaluator(labelCol=\"label\",\n",
    "                                                 predictionCol=\"prediction\",\n",
    "                                                 metricName=\"f1\")\n",
    "evaluator_accuracy = MulticlassClassificationEvaluator(labelCol=\"label\",\n",
    "                                                       predictionCol=\"prediction\",\n",
    "                                                       metricName=\"accuracy\")\n",
    "evaluator_precision = MulticlassClassificationEvaluator(labelCol=\"label\",\n",
    "                                                        predictionCol=\"prediction\",\n",
    "                                                        metricName=\"weightedPrecision\")\n",
    "evaluator_recall = MulticlassClassificationEvaluator(labelCol=\"label\",\n",
    "                                                        predictionCol=\"prediction\",\n",
    "                                                        metricName=\"weightedRecall\")\n",
    "ovr_model_5 = ovr.fit(training_set_5)\n",
    "ovr_5_predict = ovr_model_5.transform(testing_set_5)\n",
    "\n",
    "f1_window_5_ovr = evaluator_f1.evaluate(ovr_5_predict)\n",
    "accuracy_window_5_ovr = evaluator_accuracy.evaluate(ovr_5_predict)\n",
    "precision_window_5_ovr = evaluator_precision.evaluate(ovr_5_predict)\n",
    "recall_window_5_ovr = evaluator_recall.evaluate(ovr_5_predict)\n",
    "end_ovr_5 = time()"
   ]
  },
  {
   "cell_type": "markdown",
   "metadata": {},
   "source": [
    "### 1.7.2 confusion matrix"
   ]
  },
  {
   "cell_type": "code",
   "execution_count": 43,
   "metadata": {
    "ExecuteTime": {
     "end_time": "2019-01-18T22:51:57.830185Z",
     "start_time": "2019-01-18T22:51:55.265820Z"
    }
   },
   "outputs": [
    {
     "name": "stdout",
     "output_type": "stream",
     "text": [
      "+-----+----------+-----+\n",
      "|label|prediction|count|\n",
      "+-----+----------+-----+\n",
      "|    1|       0.0|   18|\n",
      "|    0|       0.0|   79|\n",
      "|    1|       1.0|   48|\n",
      "|    0|       1.0|   19|\n",
      "+-----+----------+-----+\n",
      "\n"
     ]
    }
   ],
   "source": [
    "ovr_5_predict.select('label','prediction').groupBy('label','prediction').count().show()"
   ]
  },
  {
   "cell_type": "markdown",
   "metadata": {},
   "source": [
    "### 1.7.3 classification metrics"
   ]
  },
  {
   "cell_type": "code",
   "execution_count": 44,
   "metadata": {
    "ExecuteTime": {
     "end_time": "2019-01-18T22:51:57.841731Z",
     "start_time": "2019-01-18T22:51:57.834952Z"
    }
   },
   "outputs": [
    {
     "name": "stdout",
     "output_type": "stream",
     "text": [
      "F1 score = 0.77466\n",
      "Accuracy = 0.77439\n",
      "Test Error = 0.22561\n",
      "Precision = 0.774988\n",
      "Recall = 0.77439\n",
      "TimeInSeconds = 25.7417\n"
     ]
    }
   ],
   "source": [
    "print(\"F1 score = %g\" % (f1_window_5_ovr))\n",
    "print(\"Accuracy = %g\" % (accuracy_window_5_ovr))\n",
    "print(\"Test Error = %g\" % (1.0 - accuracy_window_5_ovr))\n",
    "print(\"Precision = %g\" % (precision_window_5_ovr))\n",
    "print(\"Recall = %g\" % (recall_window_5_ovr))\n",
    "print(\"TimeInSeconds = %g\" % (end_ovr_5-start_ovr_5))"
   ]
  },
  {
   "cell_type": "markdown",
   "metadata": {},
   "source": [
    "## OneVsRest on selected features"
   ]
  },
  {
   "cell_type": "code",
   "execution_count": 45,
   "metadata": {
    "ExecuteTime": {
     "end_time": "2019-01-18T22:52:25.006446Z",
     "start_time": "2019-01-18T22:51:57.845752Z"
    }
   },
   "outputs": [],
   "source": [
    "start_ovr_5_top = time()\n",
    "\n",
    "ovr_top = OneVsRest(classifier=lr_5) \n",
    "evaluator_f1_top = MulticlassClassificationEvaluator(labelCol=\"label\",\n",
    "                                                 predictionCol=\"prediction\",\n",
    "                                                 metricName=\"f1\")\n",
    "evaluator_accuracy_top = MulticlassClassificationEvaluator(labelCol=\"label\",\n",
    "                                                       predictionCol=\"prediction\",\n",
    "                                                       metricName=\"accuracy\")\n",
    "evaluator_precision_top = MulticlassClassificationEvaluator(labelCol=\"label\",\n",
    "                                                        predictionCol=\"prediction\",\n",
    "                                                        metricName=\"weightedPrecision\")\n",
    "evaluator_recall_top = MulticlassClassificationEvaluator(labelCol=\"label\",\n",
    "                                                        predictionCol=\"prediction\",\n",
    "                                                        metricName=\"weightedRecall\")\n",
    "ovr_model_5_top = ovr_top.fit(training_set_5_top)\n",
    "ovr_5_predict_top = ovr_model_5_top.transform(testing_set_5_top)\n",
    "\n",
    "f1_window_5_ovr_top = evaluator_f1_top.evaluate(ovr_5_predict_top)\n",
    "accuracy_window_5_ovr_top = evaluator_accuracy_top.evaluate(ovr_5_predict_top)\n",
    "precision_window_5_ovr_top = evaluator_precision_top.evaluate(ovr_5_predict_top)\n",
    "recall_window_5_ovr_top = evaluator_recall_top.evaluate(ovr_5_predict_top)\n",
    "\n",
    "end_ovr_5_top = time()"
   ]
  },
  {
   "cell_type": "markdown",
   "metadata": {},
   "source": [
    "### Confustion matrix"
   ]
  },
  {
   "cell_type": "code",
   "execution_count": 46,
   "metadata": {
    "ExecuteTime": {
     "end_time": "2019-01-18T22:52:27.114689Z",
     "start_time": "2019-01-18T22:52:25.009687Z"
    }
   },
   "outputs": [
    {
     "name": "stdout",
     "output_type": "stream",
     "text": [
      "+-----+----------+-----+\n",
      "|label|prediction|count|\n",
      "+-----+----------+-----+\n",
      "|    1|       0.0|   17|\n",
      "|    0|       0.0|   79|\n",
      "|    1|       1.0|   49|\n",
      "|    0|       1.0|   19|\n",
      "+-----+----------+-----+\n",
      "\n"
     ]
    }
   ],
   "source": [
    "ovr_5_predict_top.select('label','prediction').groupBy('label','prediction').count().show()"
   ]
  },
  {
   "cell_type": "markdown",
   "metadata": {},
   "source": [
    "### Performance metrics"
   ]
  },
  {
   "cell_type": "code",
   "execution_count": 47,
   "metadata": {
    "ExecuteTime": {
     "end_time": "2019-01-18T22:52:49.271334Z",
     "start_time": "2019-01-18T22:52:49.264316Z"
    }
   },
   "outputs": [
    {
     "name": "stdout",
     "output_type": "stream",
     "text": [
      "F1 score = 0.780994\n",
      "Accuracy = 0.780488\n",
      "Test Error = 0.219512\n",
      "Precision = 0.781736\n",
      "Recall = 0.780488\n",
      "TimeInSeconds = -2.59083\n"
     ]
    }
   ],
   "source": [
    "print(\"F1 score = %g\" % (f1_window_5_ovr_top))\n",
    "print(\"Accuracy = %g\" % (accuracy_window_5_ovr_top))\n",
    "print(\"Test Error = %g\" % (1.0 - accuracy_window_5_ovr_top))\n",
    "print(\"Precision = %g\" % (precision_window_5_ovr_top))\n",
    "print(\"Recall = %g\" % (recall_window_5_ovr_top))\n",
    "print(\"TimeInSeconds = %g\" % (end_ovr_5-start_ovr_5_top))"
   ]
  },
  {
   "cell_type": "markdown",
   "metadata": {},
   "source": [
    "## 1.6 Model comparison"
   ]
  },
  {
   "cell_type": "code",
   "execution_count": 28,
   "metadata": {},
   "outputs": [],
   "source": [
    "# import pandas as pd\n",
    "# headers=[\"model\",\"F1 score\", \"Accuracy\", \"Test Error\", \"Precision\",\n",
    "#         \"Recall\",\"TimeInSeconds\"]\n",
    "# metrics=[(\"random forest\",f1_window_5_rf, accuracy_window_5_rf, 1.0 - accuracy_window_5_rf,\n",
    "#             precision_window_5_rf, recall_window_5_rf, end_rf_5-start_rf_5),\n",
    "#          (\"logistic regression\", f1_window_5_lr, accuracy_window_5_lr, 1.0 - accuracy_window_5_lr,\n",
    "#            precision_window_5_lr, recall_window_5_lr, end_lr_5-start_lr_5),\n",
    "#          (\"Gradient-boosted tree classifier\", gbt_f1_5, gbt_accuracy_5, 1.0 - gbt_accuracy_5,\n",
    "#             gbt_precision_5, gbt_recall_5, end_gbt_5-start_gbt_5),\n",
    "#         (\"Support Vector Machine\", svm_f1_5, svm_accuracy_5, 1.0 - svm_accuracy_5,\n",
    "#            svm_precision_5, svm_recall_5, end_svm_5-start_svm_5),\n",
    "#         (\"OneVsRest\", f1_window_5_ovr, accuracy_window_5_ovr, 1.0 - accuracy_window_5_ovr,\n",
    "#            precision_window_5_ovr, recall_window_5_ovr, end_ovr_5-start_ovr_5)]\n",
    "# df_metrics = pd.DataFrame.from_records(metrics, columns=headers).set_index('model')"
   ]
  },
  {
   "cell_type": "code",
   "execution_count": 48,
   "metadata": {
    "ExecuteTime": {
     "end_time": "2019-01-18T22:52:55.891649Z",
     "start_time": "2019-01-18T22:52:54.288173Z"
    }
   },
   "outputs": [],
   "source": [
    "import pandas as pd\n",
    "headers=[\"model\",\"F1 score\", \"Accuracy\", \"Test Error\", \"Precision\",\n",
    "        \"Recall\",\"TimeInSeconds\"]\n",
    "metrics=[(\"random forest\",f1_window_5_rf, accuracy_window_5_rf, 1.0 - accuracy_window_5_rf,\n",
    "            precision_window_5_rf, recall_window_5_rf, end_rf_5-start_rf_5),\n",
    "         (\"logistic regression\", f1_window_5_lr, accuracy_window_5_lr, 1.0 - accuracy_window_5_lr,\n",
    "           precision_window_5_lr, recall_window_5_lr, end_lr_5-start_lr_5),\n",
    "         (\"logistic regression - selected features\", f1_window_5_lr_top, accuracy_window_5_lr_top, \n",
    "          1.0 - accuracy_window_5_lr_top, precision_window_5_lr_top, recall_window_5_lr_top, \n",
    "          end_lr_5_top-start_lr_5_top),\n",
    "         (\"Gradient-boosted tree classifier\", gbt_f1_5, gbt_accuracy_5, 1.0 - gbt_accuracy_5,\n",
    "            gbt_precision_5, gbt_recall_5, end_gbt_5-start_gbt_5),\n",
    "         (\"Gradient-boosted tree classifier - selected features\", gbt_f1_5_top, gbt_accuracy_5_top, \n",
    "          1.0 - gbt_accuracy_5_top, gbt_precision_5_top, gbt_recall_5_top, end_gbt_5_top-start_gbt_5_top),\n",
    "         (\"Support Vector Machine\", svm_f1_5, svm_accuracy_5, 1.0 - svm_accuracy_5,\n",
    "           svm_precision_5, svm_recall_5, end_svm_5-start_svm_5),\n",
    "         (\"Support Vector Machine - selected features\", svm_f1_5_top, svm_accuracy_5_top, \n",
    "          1.0 - svm_accuracy_5_top, svm_precision_5_top, svm_recall_5_top, end_svm_5_top-start_svm_5_top),\n",
    "         (\"OneVsRest\", f1_window_5_ovr, accuracy_window_5_ovr, 1.0 - accuracy_window_5_ovr,\n",
    "           precision_window_5_ovr, recall_window_5_ovr, end_ovr_5-start_ovr_5),\n",
    "        (\"OneVsRest - selected features\", f1_window_5_ovr_top, accuracy_window_5_ovr_top, \n",
    "         1.0 - accuracy_window_5_ovr_top, precision_window_5_ovr_top, recall_window_5_ovr_top, \n",
    "         end_ovr_5_top-start_ovr_5_top)]\n",
    "df_metrics = pd.DataFrame.from_records(metrics, columns=headers).set_index('model')"
   ]
  },
  {
   "cell_type": "code",
   "execution_count": 49,
   "metadata": {
    "ExecuteTime": {
     "end_time": "2019-01-18T22:53:04.807335Z",
     "start_time": "2019-01-18T22:53:04.786403Z"
    }
   },
   "outputs": [
    {
     "data": {
      "text/html": [
       "<div>\n",
       "<style scoped>\n",
       "    .dataframe tbody tr th:only-of-type {\n",
       "        vertical-align: middle;\n",
       "    }\n",
       "\n",
       "    .dataframe tbody tr th {\n",
       "        vertical-align: top;\n",
       "    }\n",
       "\n",
       "    .dataframe thead th {\n",
       "        text-align: right;\n",
       "    }\n",
       "</style>\n",
       "<table border=\"1\" class=\"dataframe\">\n",
       "  <thead>\n",
       "    <tr style=\"text-align: right;\">\n",
       "      <th></th>\n",
       "      <th>F1 score</th>\n",
       "      <th>Accuracy</th>\n",
       "      <th>Test Error</th>\n",
       "      <th>Precision</th>\n",
       "      <th>Recall</th>\n",
       "      <th>TimeInSeconds</th>\n",
       "    </tr>\n",
       "    <tr>\n",
       "      <th>model</th>\n",
       "      <th></th>\n",
       "      <th></th>\n",
       "      <th></th>\n",
       "      <th></th>\n",
       "      <th></th>\n",
       "      <th></th>\n",
       "    </tr>\n",
       "  </thead>\n",
       "  <tbody>\n",
       "    <tr>\n",
       "      <th>random forest</th>\n",
       "      <td>0.811607</td>\n",
       "      <td>0.810976</td>\n",
       "      <td>0.189024</td>\n",
       "      <td>0.812787</td>\n",
       "      <td>0.810976</td>\n",
       "      <td>22.621946</td>\n",
       "    </tr>\n",
       "    <tr>\n",
       "      <th>logistic regression</th>\n",
       "      <td>0.774660</td>\n",
       "      <td>0.774390</td>\n",
       "      <td>0.225610</td>\n",
       "      <td>0.774988</td>\n",
       "      <td>0.774390</td>\n",
       "      <td>14.333141</td>\n",
       "    </tr>\n",
       "    <tr>\n",
       "      <th>logistic regression - selected features</th>\n",
       "      <td>0.780994</td>\n",
       "      <td>0.780488</td>\n",
       "      <td>0.219512</td>\n",
       "      <td>0.781736</td>\n",
       "      <td>0.780488</td>\n",
       "      <td>14.140279</td>\n",
       "    </tr>\n",
       "    <tr>\n",
       "      <th>Gradient-boosted tree classifier</th>\n",
       "      <td>0.830284</td>\n",
       "      <td>0.829268</td>\n",
       "      <td>0.170732</td>\n",
       "      <td>0.833532</td>\n",
       "      <td>0.829268</td>\n",
       "      <td>54.910195</td>\n",
       "    </tr>\n",
       "    <tr>\n",
       "      <th>Gradient-boosted tree classifier - selected features</th>\n",
       "      <td>0.836803</td>\n",
       "      <td>0.835366</td>\n",
       "      <td>0.164634</td>\n",
       "      <td>0.845749</td>\n",
       "      <td>0.835366</td>\n",
       "      <td>51.853088</td>\n",
       "    </tr>\n",
       "    <tr>\n",
       "      <th>Support Vector Machine</th>\n",
       "      <td>0.787298</td>\n",
       "      <td>0.786585</td>\n",
       "      <td>0.213415</td>\n",
       "      <td>0.788542</td>\n",
       "      <td>0.786585</td>\n",
       "      <td>13.924436</td>\n",
       "    </tr>\n",
       "    <tr>\n",
       "      <th>Support Vector Machine - selected features</th>\n",
       "      <td>0.787298</td>\n",
       "      <td>0.786585</td>\n",
       "      <td>0.213415</td>\n",
       "      <td>0.788542</td>\n",
       "      <td>0.786585</td>\n",
       "      <td>12.476128</td>\n",
       "    </tr>\n",
       "    <tr>\n",
       "      <th>OneVsRest</th>\n",
       "      <td>0.774660</td>\n",
       "      <td>0.774390</td>\n",
       "      <td>0.225610</td>\n",
       "      <td>0.774988</td>\n",
       "      <td>0.774390</td>\n",
       "      <td>25.741653</td>\n",
       "    </tr>\n",
       "    <tr>\n",
       "      <th>OneVsRest - selected features</th>\n",
       "      <td>0.780994</td>\n",
       "      <td>0.780488</td>\n",
       "      <td>0.219512</td>\n",
       "      <td>0.781736</td>\n",
       "      <td>0.780488</td>\n",
       "      <td>27.152684</td>\n",
       "    </tr>\n",
       "  </tbody>\n",
       "</table>\n",
       "</div>"
      ],
      "text/plain": [
       "                                                    F1 score  Accuracy  \\\n",
       "model                                                                    \n",
       "random forest                                       0.811607  0.810976   \n",
       "logistic regression                                 0.774660  0.774390   \n",
       "logistic regression - selected features             0.780994  0.780488   \n",
       "Gradient-boosted tree classifier                    0.830284  0.829268   \n",
       "Gradient-boosted tree classifier - selected fea...  0.836803  0.835366   \n",
       "Support Vector Machine                              0.787298  0.786585   \n",
       "Support Vector Machine - selected features          0.787298  0.786585   \n",
       "OneVsRest                                           0.774660  0.774390   \n",
       "OneVsRest - selected features                       0.780994  0.780488   \n",
       "\n",
       "                                                    Test Error  Precision  \\\n",
       "model                                                                       \n",
       "random forest                                         0.189024   0.812787   \n",
       "logistic regression                                   0.225610   0.774988   \n",
       "logistic regression - selected features               0.219512   0.781736   \n",
       "Gradient-boosted tree classifier                      0.170732   0.833532   \n",
       "Gradient-boosted tree classifier - selected fea...    0.164634   0.845749   \n",
       "Support Vector Machine                                0.213415   0.788542   \n",
       "Support Vector Machine - selected features            0.213415   0.788542   \n",
       "OneVsRest                                             0.225610   0.774988   \n",
       "OneVsRest - selected features                         0.219512   0.781736   \n",
       "\n",
       "                                                      Recall  TimeInSeconds  \n",
       "model                                                                        \n",
       "random forest                                       0.810976      22.621946  \n",
       "logistic regression                                 0.774390      14.333141  \n",
       "logistic regression - selected features             0.780488      14.140279  \n",
       "Gradient-boosted tree classifier                    0.829268      54.910195  \n",
       "Gradient-boosted tree classifier - selected fea...  0.835366      51.853088  \n",
       "Support Vector Machine                              0.786585      13.924436  \n",
       "Support Vector Machine - selected features          0.786585      12.476128  \n",
       "OneVsRest                                           0.774390      25.741653  \n",
       "OneVsRest - selected features                       0.780488      27.152684  "
      ]
     },
     "execution_count": 49,
     "metadata": {},
     "output_type": "execute_result"
    }
   ],
   "source": [
    "df_metrics"
   ]
  }
 ],
 "metadata": {
  "kernelspec": {
   "display_name": "Python 3",
   "language": "python",
   "name": "python3"
  },
  "language_info": {
   "codemirror_mode": {
    "name": "ipython",
    "version": 3
   },
   "file_extension": ".py",
   "mimetype": "text/x-python",
   "name": "python",
   "nbconvert_exporter": "python",
   "pygments_lexer": "ipython3",
   "version": "3.6.4"
  },
  "toc": {
   "base_numbering": 1,
   "nav_menu": {},
   "number_sections": true,
   "sideBar": true,
   "skip_h1_title": false,
   "title_cell": "Table of Contents",
   "title_sidebar": "Contents",
   "toc_cell": false,
   "toc_position": {
    "height": "calc(100% - 180px)",
    "left": "10px",
    "top": "150px",
    "width": "329.653px"
   },
   "toc_section_display": true,
   "toc_window_display": true
  },
  "varInspector": {
   "cols": {
    "lenName": 16,
    "lenType": 16,
    "lenVar": 40
   },
   "kernels_config": {
    "python": {
     "delete_cmd_postfix": "",
     "delete_cmd_prefix": "del ",
     "library": "var_list.py",
     "varRefreshCmd": "print(var_dic_list())"
    },
    "r": {
     "delete_cmd_postfix": ") ",
     "delete_cmd_prefix": "rm(",
     "library": "var_list.r",
     "varRefreshCmd": "cat(var_dic_list()) "
    }
   },
   "types_to_exclude": [
    "module",
    "function",
    "builtin_function_or_method",
    "instance",
    "_Feature"
   ],
   "window_display": false
  }
 },
 "nbformat": 4,
 "nbformat_minor": 2
}
